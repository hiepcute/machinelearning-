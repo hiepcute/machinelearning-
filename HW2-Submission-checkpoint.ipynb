{
 "cells": [
  {
   "cell_type": "markdown",
   "metadata": {},
   "source": [
    "# Bài tập 2\n",
    "Đỗ Văn Hiệp 1712429\n"
   ]
  },
  {
   "cell_type": "markdown",
   "metadata": {},
   "source": [
    "## Câu 1 (1 điểm)"
   ]
  },
  {
   "cell_type": "code",
   "execution_count": 1,
   "metadata": {},
   "outputs": [
    {
     "name": "stdout",
     "output_type": "stream",
     "text": [
      "0.037973999999999994\n"
     ]
    }
   ],
   "source": [
    "import numpy as np\n",
    "N=10\n",
    "mu=0.5\n",
    "n_repeats=100000\n",
    "n_coints=1000\n",
    "nus = np.random.binomial(N,mu,(n_repeats,n_coints))/N\n",
    "v_1=nus[:, 0] # lay ra cot dau cua coint dau tien duoc lat\n",
    "rows=np.arange(nus.shape[0])\n",
    "colums=np.random.choice(np.arange(nus.shape[1]),size=nus.shape[0])# lay ngau nhien 1 cot trong 1000 cot , size moi cot la\n",
    "#100000 phan tu\n",
    "v_rand=nus[rows,colums]\n",
    "v_min=np.min(nus,axis=1)\n",
    "print(np.mean(v_min))"
   ]
  },
  {
   "cell_type": "markdown",
   "metadata": {
    "deletable": false,
    "nbgrader": {
     "cell_type": "markdown",
     "checksum": "2e83d862b3c5fd4fb57d72c50e8115f8",
     "grade": true,
     "grade_id": "c1",
     "locked": false,
     "points": 1,
     "schema_version": 3,
     "solution": true,
     "task": false
    }
   },
   "source": [
    "chọn B , sau khi run đoạn code ở trên ta được v_min: gần với 0.01\n"
   ]
  },
  {
   "cell_type": "markdown",
   "metadata": {},
   "source": [
    "## Câu 2 (1 điểm)"
   ]
  },
  {
   "cell_type": "code",
   "execution_count": 2,
   "metadata": {},
   "outputs": [
    {
     "name": "stdout",
     "output_type": "stream",
     "text": [
      "0.49993800000000005\n",
      "0.499964\n",
      "0.037647999999999994\n"
     ]
    }
   ],
   "source": [
    "import numpy as np\n",
    "N=10\n",
    "mu=0.5\n",
    "n_repeats=100000\n",
    "n_coints=1000\n",
    "nus = np.random.binomial(N,mu,(n_repeats,n_coints))/N\n",
    "v_1=nus[:, 0] # lay ra cot dau cua coint dau tien duoc lat\n",
    "rows=np.arange(nus.shape[0])\n",
    "colums=np.random.choice(np.arange(nus.shape[1]),size=nus.shape[0])# lay ngau nhien 1 cot trong 1000 cot , size moi cot la\n",
    "#100000 phan tu\n",
    "v_rand=nus[rows,colums]\n",
    "v_min=np.min(nus,axis=1)\n",
    "#print(np.mean(v_min))\n",
    "mean_v1=np.mean(v_1)\n",
    "mean_v_rand=np.mean(v_rand)\n",
    "mean_v_min=np.mean(v_min)\n",
    "print(mean_v1)\n",
    "print(mean_v_rand)\n",
    "print(mean_v_min)"
   ]
  },
  {
   "cell_type": "markdown",
   "metadata": {
    "deletable": false,
    "nbgrader": {
     "cell_type": "markdown",
     "checksum": "47d4e2bb3e4812ef7b37e032a898cfec",
     "grade": true,
     "grade_id": "c2",
     "locked": false,
     "points": 1,
     "schema_version": 3,
     "solution": true,
     "task": false
    }
   },
   "source": [
    "chọn D : sau khi run đoạn code này ta được v_1, và v_rand tiến tới gần bằng 0.5"
   ]
  },
  {
   "cell_type": "markdown",
   "metadata": {},
   "source": [
    "## Câu 3 (1 điểm)"
   ]
  },
  {
   "cell_type": "markdown",
   "metadata": {
    "deletable": false,
    "nbgrader": {
     "cell_type": "markdown",
     "checksum": "0997a909d9ab1f250c2bfd0645fee970",
     "grade": true,
     "grade_id": "c3",
     "locked": false,
     "points": 1,
     "schema_version": 3,
     "solution": true,
     "task": false
    }
   },
   "source": [
    "chọn đáp án E\n",
    "đặt  m=mu\n",
    "ta có xác suất để h xấp xỉ bằng y là (theo quy tắc xác suất có điều kiện ) P(x)*P(y|)=(1-m)*lamda\n",
    "với y !=f(x) và với h chấp nhận f là : (1-m)*(1-lamda)\n",
    "với y=f(x) và h không chấp nhận f là : m*lamda\n",
    "từ 2 trường hợp ở trên ta có xác suất để h xấp xỉ bằng f : là (1-m)*(1-lamda)+m*lamda"
   ]
  },
  {
   "cell_type": "markdown",
   "metadata": {},
   "source": [
    "## Câu 4 (1 điểm)"
   ]
  },
  {
   "cell_type": "markdown",
   "metadata": {
    "deletable": false,
    "nbgrader": {
     "cell_type": "markdown",
     "checksum": "efabab5c4035a6864ac8cb3e0061c6f0",
     "grade": true,
     "grade_id": "c4",
     "locked": false,
     "points": 1,
     "schema_version": 3,
     "solution": true,
     "task": false
    }
   },
   "source": [
    "chọn B : với giá trị của "
   ]
  },
  {
   "cell_type": "markdown",
   "metadata": {},
   "source": [
    "## Câu 5 (1 điểm)"
   ]
  },
  {
   "cell_type": "code",
   "execution_count": 3,
   "metadata": {},
   "outputs": [
    {
     "name": "stdout",
     "output_type": "stream",
     "text": [
      "0.038610000000000005\n"
     ]
    }
   ],
   "source": [
    "# khoi tao data\n",
    "# vì trong bài lấy số chiều D=2 nên ta cho số chiều D=2 \n",
    "import numpy as np\n",
    "def generate_target_w():\n",
    "    p1=np.random.uniform(-1,1,2)# khoi tao ran dom 2 diem trong khoang (-1,1)\n",
    "    p2=np.random.uniform(-1,1,2)\n",
    "    target_w = np.array([p1[1]*p2[0] - p1[0]*p2[1], p2[1] - p1[1], p1[0] - p2[0]]).reshape((-1, 1))\n",
    "    return target_w\n",
    "def generate_data(N,target_w):\n",
    "    bad_data=True\n",
    "    while bad_data==True:\n",
    "        X = np.random.uniform(-1, 1, (N, 2))\n",
    "        X = np.hstack((np.ones((N, 1)), X)) # Add 'ones' column\n",
    "        Y = np.sign(np.dot(X, target_w))\n",
    "        if (0 not in Y): # Good data\n",
    "            bad_data = False\n",
    "    return X, Y\n",
    "\n",
    "E_in=[]\n",
    "for i in range(1000):\n",
    "    target_w=generate_target_w()# khoitao data\n",
    "    X,Y=generate_data(100,target_w)\n",
    "    w=np.zeros((X.shape[1],1))# khoi tao trong số\n",
    "    X_dagger = np.dot(np.linalg.inv(np.dot(X.T, X)), X.T)# tinh theo độ lỗi bình phương\n",
    "    w = np.dot(X_dagger, Y)# tính trọng số\n",
    "    predict = np.dot(X, w)# tính ouput dự đoán\n",
    "    predict=np.sign(predict)# lấy dấu của output dụ đoán\n",
    "    E_in.append(np.mean(Y!=predict))# tính mean\n",
    "    \n",
    "    # tính cho E_out\n",
    "    \n",
    "\n",
    "print(np.mean(E_in))  # vì 1000 lần #"
   ]
  },
  {
   "cell_type": "markdown",
   "metadata": {
    "deletable": false,
    "nbgrader": {
     "cell_type": "markdown",
     "checksum": "0b484b8390bec96142e8a1213ee8cd2c",
     "grade": true,
     "grade_id": "c5",
     "locked": false,
     "points": 1,
     "schema_version": 3,
     "solution": true,
     "task": false
    }
   },
   "source": [
    "chọn C : sau khi run code ở trên thì ta ra được đáp án gần với 0.01"
   ]
  },
  {
   "cell_type": "markdown",
   "metadata": {},
   "source": [
    "## Câu 6 (1 điểm)"
   ]
  },
  {
   "cell_type": "code",
   "execution_count": 4,
   "metadata": {},
   "outputs": [
    {
     "name": "stdout",
     "output_type": "stream",
     "text": [
      "0.048412222222222225\n"
     ]
    }
   ],
   "source": [
    "# khoi tao data\n",
    "# vì trong bài lấy số chiều D=2 nên ta cho số chiều D=2 \n",
    "import numpy as np\n",
    "def generate_target_w():\n",
    "    p1=np.random.uniform(-1,1,2)# khoi tao ran dom 2 diem trong khoang (-1,1)\n",
    "    p2=np.random.uniform(-1,1,2)\n",
    "    target_w = np.array([p1[1]*p2[0] - p1[0]*p2[1], p2[1] - p1[1], p1[0] - p2[0]]).reshape((-1, 1))\n",
    "    return target_w\n",
    "def generate_data(N,target_w):\n",
    "    bad_data=True\n",
    "    while bad_data==True:\n",
    "        X = np.random.uniform(-1, 1, (N, 2))\n",
    "        X = np.hstack((np.ones((N, 1)), X)) # Add 'ones' column\n",
    "        Y = np.sign(np.dot(X, target_w))\n",
    "        if (0 not in Y): # Good data\n",
    "            bad_data = False\n",
    "    return X, Y\n",
    "\n",
    "E_in=[]\n",
    "E_out=[]\n",
    "for i in range(1000):\n",
    "    target_w=generate_target_w()# khoitao data\n",
    "    X,Y=generate_data(1000,target_w)# khởi tạo 1000 điểm\n",
    "    # lấy data cho e_in\n",
    "    X_sample=X[0:100,:]# lấy 100 mẫu đầu tiên của X\n",
    "    Y_sample=Y[0:100,:]# lấy kết quả 100 mẫu đầu tiên của y\n",
    "    \n",
    "    # lấy data cho E_out\n",
    "    X_E_out=X[100:,:]\n",
    "    Y_E_out=Y[100:,:]\n",
    "    w=np.zeros((X_sample.shape[1],1))# khoi tao trong số\n",
    "    X_dagger = np.dot(np.linalg.inv(np.dot(X_sample.T, X_sample)), X_sample.T)# tinh theo độ lỗi bình phương\n",
    "    w = np.dot(X_dagger, Y_sample)# tính trọng số\n",
    "    \n",
    "    predict_sample = np.dot(X_sample, w)# tính ouput dự đoán\n",
    "    predict_sign_sample=np.sign(predict_sample)# lấy dấu của output dụ đoán\n",
    "    E_in.append(np.mean(Y_sample!=predict_sign_sample))# tính mean\n",
    "    \n",
    "    #tính cho E_out\n",
    "    predict_E_out=np.dot(X_E_out,w)\n",
    "    predict_sign_E_out=np.sign(predict_E_out)\n",
    "    E_out.append(np.mean(Y_E_out!=predict_sign_E_out))\n",
    "print(np.mean(E_out))  # vì 1000 lần #"
   ]
  },
  {
   "cell_type": "markdown",
   "metadata": {
    "deletable": false,
    "nbgrader": {
     "cell_type": "markdown",
     "checksum": "26f542221236fb24d0ddbee584eed7d0",
     "grade": true,
     "grade_id": "c6",
     "locked": false,
     "points": 1,
     "schema_version": 3,
     "solution": true,
     "task": false
    }
   },
   "source": [
    "chọn đáp án C sau khi run code ở trên"
   ]
  },
  {
   "cell_type": "markdown",
   "metadata": {},
   "source": [
    "## Câu 7 (1 điểm)"
   ]
  },
  {
   "cell_type": "code",
   "execution_count": 5,
   "metadata": {},
   "outputs": [
    {
     "name": "stdout",
     "output_type": "stream",
     "text": [
      "avg_num_iterations  5.064\n"
     ]
    }
   ],
   "source": [
    "import numpy as np\n",
    "def generate_target_w():\n",
    "    p1=np.random.uniform(-1,1,2)# khoi tao ran dom 2 diem trong khoang (-1,1)\n",
    "    p2=np.random.uniform(-1,1,2)\n",
    "   \n",
    "    target_w = np.array([p1[1]*p2[0] - p1[0]*p2[1], p2[1] - p1[1], p1[0] - p2[0]]).reshape((-1, 1))\n",
    "    return target_w\n",
    "def generate_data(N,target_w):\n",
    "    bad_data=True\n",
    "    while bad_data==True:\n",
    "        X = np.random.uniform(-1, 1, (N, 2))\n",
    "        X = np.hstack((np.ones((N, 1)), X)) # Add 'ones' column\n",
    "        Y = np.sign(np.dot(X, target_w))\n",
    "        if (0 not in Y): # Good data\n",
    "            bad_data = False\n",
    "    return X, Y\n",
    "\n",
    "def run_PLA(X,Y):\n",
    "    w = np.zeros((X.shape[1], 1))\n",
    "    iteration = 0\n",
    "    X_dagger = np.dot(np.linalg.inv(np.dot(X.T, X)), X.T)# tinh theo độ lỗi bình phương\n",
    "    w = np.dot(X_dagger, Y)# tính trọng số\n",
    "    while True:\n",
    "        iteration=iteration+1# tăng vòng lặp lên 1 đơn vị\n",
    "        #tim vi tri  bi phan lop sai \n",
    "        predict=np.dot(X,w)# \n",
    "        predictions=np.sign(predict)\n",
    "        erros=np.mean(Y!=predictions)\n",
    "        if erros==0:\n",
    "            break\n",
    "        index=np.flatnonzero(predictions!=Y)\n",
    "        #chon ngau nhien 1 diem trong tap bi phan lop sai \n",
    "        id_random=np.random.choice(index,1)[0]\n",
    "        x_i=X[id_random].reshape(3,1)\n",
    "        y_i=Y[id_random]\n",
    "       \n",
    "        if iteration>1000:\n",
    "            break\n",
    "        #cap nhat trong so\n",
    "        w=w+x_i*y_i\n",
    "\n",
    "        \n",
    "        \n",
    "            \n",
    "    return w,iteration\n",
    "list_iteration=[]\n",
    "def main(N): # You don't have to name this function \"main\", you can use other names\n",
    "    \"\"\"\n",
    "    Parameters\n",
    "    ----------\n",
    "    N : int\n",
    "        The number of training examples.\n",
    "    \"\"\"\n",
    "    num_runs = 1000\n",
    "    avg_num_iterations = 0.0 # The average number of iterations PLA takes to converge\n",
    "    avg_test_err = 0.0 # The average test error of g - the final hypothesis picked by PLA\n",
    "    for r in range(num_runs):\n",
    "        # Generate target_w\n",
    "        target_w = generate_target_w()\n",
    "        # Generate training set\n",
    "        X, Y = generate_data(N, target_w)\n",
    "        # Run PLA to pick g\n",
    "        w, num_iterations = run_PLA(X, Y)\n",
    "        \n",
    "        list_iteration.append(num_iterations)\n",
    "    \n",
    "    # Print results\n",
    "    print('avg_num_iterations ',np.mean(list_iteration))\n",
    "    \n",
    "main(N=10)        "
   ]
  },
  {
   "cell_type": "markdown",
   "metadata": {
    "deletable": false,
    "nbgrader": {
     "cell_type": "markdown",
     "checksum": "322a244b0fae3a20ec568a5099aaaec1",
     "grade": true,
     "grade_id": "c7",
     "locked": false,
     "points": 1,
     "schema_version": 3,
     "solution": true,
     "task": false
    }
   },
   "source": [
    "chọn A"
   ]
  },
  {
   "cell_type": "markdown",
   "metadata": {},
   "source": [
    "## Câu 8 (1 điểm)"
   ]
  },
  {
   "cell_type": "code",
   "execution_count": 6,
   "metadata": {},
   "outputs": [
    {
     "name": "stdout",
     "output_type": "stream",
     "text": [
      "0.44157\n"
     ]
    }
   ],
   "source": [
    "import numpy as np\n",
    "\n",
    "\n",
    "\n",
    "#khởi tạo data\n",
    "def generate_data(N,target_w):\n",
    "    bad_data=True\n",
    "    while bad_data==True:\n",
    "        X = np.random.uniform(-1, 1, (N, 2))\n",
    "        X = np.hstack((np.ones((N, 1)), X)) # Add 'ones' column\n",
    "        y=np.zeros((N,1))\n",
    "        x1=X[:,1].reshape((N,1))\n",
    "        x1=x1**2\n",
    "        x2=X[:,2].reshape((N,1))\n",
    "        x2=x2**2\n",
    "        Y=np.sign(x1+x2-0.6).reshape((N,1))\n",
    "        if (0 not in Y):\n",
    "            bad_data=False\n",
    "    ys=np.random.choice(np.arange(N), size=int(0.1*N), replace=False) \n",
    "    Y[ys]*=-1 # đổi dấu các phần tử mà lựa chọn ngẫu nhiên\n",
    "    return X, Y\n",
    "E_in=[]\n",
    "for i in range(1000):\n",
    "    target_w=generate_target_w()# khoitao data\n",
    "    X,Y=generate_data(100,target_w)\n",
    "    w=np.zeros((X.shape[1],1))# khoi tao trong số\n",
    "    X_dagger = np.dot(np.linalg.inv(np.dot(X.T, X)), X.T)# tinh theo độ lỗi bình phương\n",
    "    w = np.dot(X_dagger, Y)# tính trọng số\n",
    "    predict = np.dot(X, w)# tính ouput dự đoán\n",
    "    predict=np.sign(predict)# lấy dấu của output dụ đoán\n",
    "    E_in.append(np.mean(Y!=predict))# tính mean\n",
    "\n",
    "print(np.mean(E_in))  # vì 1000 lần #\n"
   ]
  },
  {
   "cell_type": "markdown",
   "metadata": {
    "deletable": false,
    "nbgrader": {
     "cell_type": "markdown",
     "checksum": "d81773f072cd15e4a27b6cd240a5d990",
     "grade": true,
     "grade_id": "c8",
     "locked": false,
     "points": 1,
     "schema_version": 3,
     "solution": true,
     "task": false
    }
   },
   "source": [
    "chọn đáp án D"
   ]
  },
  {
   "cell_type": "markdown",
   "metadata": {},
   "source": [
    "## Câu 9 (1 điểm)"
   ]
  },
  {
   "cell_type": "code",
   "execution_count": 7,
   "metadata": {},
   "outputs": [
    {
     "name": "stdout",
     "output_type": "stream",
     "text": [
      "[[-0.74638514]\n",
      " [-0.44106169]\n",
      " [-1.20971403]\n",
      " [ 0.473102  ]\n",
      " [ 0.09917227]\n",
      " [ 0.99894649]]\n"
     ]
    }
   ],
   "source": [
    "import numpy as np\n",
    "def generate_target_w():\n",
    "    p1=np.random.uniform(-1,1,2)# khoi tao ran dom 2 diem trong khoang (-1,1)\n",
    "    p2=np.random.uniform(-1,1,2)\n",
    "    target_w = np.array([p1[1]*p2[0] - p1[0]*p2[1], p2[1] - p1[1], p1[0] - p2[0]]).reshape((-1, 1))\n",
    "    return target_w\n",
    "def biendoi(X,N):\n",
    "    result=np.zeros((X.shape[0],6))\n",
    "    result[:,0]=1\n",
    "    result[:,1]=X[:,1]\n",
    "    result[:,2]=X[:,2]\n",
    "    x1x2=(X[:,1]*X[:,2]).reshape((N,))\n",
    "    result[:,3]=x1x2\n",
    "    x1=X[:,1].reshape((N,))\n",
    "    x1=x1**2\n",
    "    x2=X[:,2].reshape((N,))\n",
    "    x2=x2**2\n",
    "    result[:,4]=x1\n",
    "    result[:,5]=x2\n",
    "    return result.reshape((N,6))\n",
    "def generate_data(N,target_w):\n",
    "    bad_data=True\n",
    "    while bad_data==True:\n",
    "        X = np.random.uniform(-1, 1, (N, 2))\n",
    "        X = np.hstack((np.ones((N, 1)), X)) # Add 'ones' column\n",
    "        Y = np.sign(np.dot(X, target_w))\n",
    "        if (0 not in Y): # Good data\n",
    "            bad_data = False\n",
    "    result=biendoi(X,N)\n",
    "    return result,Y\n",
    "for i in range(1000):\n",
    "    target_w=generate_target_w()# khoitao data\n",
    "    X,Y=generate_data(1000,target_w)\n",
    "    w=np.zeros((X.shape[1],1))# khoi tao trong số\n",
    "    X_dagger = np.dot(np.linalg.inv(np.dot(X.T, X)), X.T)# tinh theo độ lỗi bình phương\n",
    "    w = np.dot(X_dagger, Y)# tính trọng số\n",
    "    predict = np.dot(X, w)# tính ouput dự đoán\n",
    "    predict=np.sign(predict)# lấy dấu của output dụ đoán\n",
    "    E_in.append(np.mean(Y!=predict))# tính mean\n",
    "\n",
    "print(w)# vì 1000 lần #\n",
    "\n",
    "    "
   ]
  },
  {
   "cell_type": "markdown",
   "metadata": {
    "deletable": false,
    "nbgrader": {
     "cell_type": "markdown",
     "checksum": "e814a2db0b8a53e4fddfee4bcbf405fc",
     "grade": true,
     "grade_id": "c9",
     "locked": false,
     "points": 1,
     "schema_version": 3,
     "solution": true,
     "task": false
    }
   },
   "source": [
    "chọn A , em ra được trọng số nhưng không biết so sánh sao ạ"
   ]
  },
  {
   "cell_type": "markdown",
   "metadata": {},
   "source": [
    "## Câu 10 (1 điểm)"
   ]
  },
  {
   "cell_type": "code",
   "execution_count": 8,
   "metadata": {},
   "outputs": [
    {
     "name": "stdout",
     "output_type": "stream",
     "text": [
      "0.126214\n"
     ]
    }
   ],
   "source": [
    "# khoi tao data\n",
    "# vì trong bài lấy số chiều D=2 nên ta cho số chiều D=2 \n",
    "import numpy as np\n",
    "def generate_target_w():\n",
    "    p1=np.random.uniform(-1,1,2)# khoi tao ran dom 2 diem trong khoang (-1,1)\n",
    "    p2=np.random.uniform(-1,1,2)\n",
    "    target_w = np.array([p1[1]*p2[0] - p1[0]*p2[1], p2[1] - p1[1], p1[0] - p2[0]]).reshape((-1, 1))\n",
    "    return target_w\n",
    "def generate_data(N,target_w):\n",
    "    bad_data=True\n",
    "    while bad_data==True:\n",
    "        X = np.random.uniform(-1, 1, (N, 2))\n",
    "        X = np.hstack((np.ones((N, 1)), X)) # Add 'ones' column\n",
    "        y=np.zeros((N,1))\n",
    "        x1=X[:,1].reshape((N,1))\n",
    "        x1=x1**2\n",
    "        x2=X[:,2].reshape((N,1))\n",
    "        x2=x2**2\n",
    "        Y=np.sign(x1+x2-0.6).reshape((N,1))\n",
    "        if (0 not in Y):\n",
    "            bad_data=False\n",
    "    ys=np.random.choice(np.arange(N), size=int(0.1*N), replace=False) \n",
    "    Y[ys]*=-1 # đổi dấu các phần tử mà lựa chọn ngẫu nhiên\n",
    "    return X, Y\n",
    "def biendoi(X,N):\n",
    "    result=np.zeros((X.shape[0],6))\n",
    "    result[:,0]=1\n",
    "    result[:,1]=X[:,1]\n",
    "    result[:,2]=X[:,2]\n",
    "    x1x2=(X[:,1]*X[:,2]).reshape((N,))\n",
    "    result[:,3]=x1x2\n",
    "    x1=X[:,1].reshape((N,))\n",
    "    x1=x1**2\n",
    "    x2=X[:,2].reshape((N,))\n",
    "    x2=x2**2\n",
    "    result[:,4]=x1\n",
    "    result[:,5]=x2\n",
    "    return result.reshape((N,6))\n",
    "E_in=[]\n",
    "E_out=[]\n",
    "for i in range(1000):\n",
    "    target_w=generate_target_w()# khoitao data\n",
    "    X,Y=generate_data(2000,target_w)# khởi tạo 1000 điểm\n",
    "    # lấy data cho e_in\n",
    "    X_sample_1=X[0:1000,:]# lấy 100 mẫu đầu tiên của X\n",
    "    X_sample=biendoi(X_sample_1,1000)\n",
    "    Y_sample=Y[0:1000,:]# lấy kết quả 100 mẫu đầu tiên của y\n",
    "    \n",
    "    # lấy data cho E_out\n",
    "    X_E_out_1=X[1000:,:]\n",
    "    X_E_out=biendoi(X_E_out_1,1000)\n",
    "    Y_E_out=Y[1000:,:]\n",
    "    w=np.zeros((X_sample.shape[1],1))# khoi tao trong số\n",
    "    X_dagger = np.dot(np.linalg.inv(np.dot(X_sample.T, X_sample)), X_sample.T)# tinh theo độ lỗi bình phương\n",
    "    w = np.dot(X_dagger, Y_sample)# tính trọng số\n",
    "    \n",
    "    predict_sample = np.dot(X_sample, w)# tính ouput dự đoán\n",
    "    predict_sign_sample=np.sign(predict_sample)# lấy dấu của output dụ đoán\n",
    "    E_in.append(np.mean(Y_sample!=predict_sign_sample))# tính mean\n",
    "    \n",
    "    #tính cho E_out\n",
    "    predict_E_out=np.dot(X_E_out,w)\n",
    "    predict_sign_E_out=np.sign(predict_E_out)\n",
    "    E_out.append(np.mean(Y_E_out!=predict_sign_E_out))\n",
    "print(np.mean(E_out))  # vì 1000 lần #"
   ]
  },
  {
   "cell_type": "markdown",
   "metadata": {
    "deletable": false,
    "nbgrader": {
     "cell_type": "markdown",
     "checksum": "41cbf5c6d2b94eeae0a712be2181fef6",
     "grade": true,
     "grade_id": "c10",
     "locked": false,
     "points": 1,
     "schema_version": 3,
     "solution": true,
     "task": false
    }
   },
   "source": [
    "chọn đáp án B"
   ]
  }
 ],
 "metadata": {
  "kernelspec": {
   "display_name": "Python 3",
   "language": "python",
   "name": "python3"
  },
  "language_info": {
   "codemirror_mode": {
    "name": "ipython",
    "version": 3
   },
   "file_extension": ".py",
   "mimetype": "text/x-python",
   "name": "python",
   "nbconvert_exporter": "python",
   "pygments_lexer": "ipython3",
   "version": "3.7.1"
  },
  "toc": {
   "base_numbering": 1,
   "nav_menu": {},
   "number_sections": true,
   "sideBar": true,
   "skip_h1_title": false,
   "title_cell": "Table of Contents",
   "title_sidebar": "Contents",
   "toc_cell": false,
   "toc_position": {},
   "toc_section_display": true,
   "toc_window_display": false
  },
  "varInspector": {
   "cols": {
    "lenName": 16,
    "lenType": 16,
    "lenVar": 40
   },
   "kernels_config": {
    "python": {
     "delete_cmd_postfix": "",
     "delete_cmd_prefix": "del ",
     "library": "var_list.py",
     "varRefreshCmd": "print(var_dic_list())"
    },
    "r": {
     "delete_cmd_postfix": ") ",
     "delete_cmd_prefix": "rm(",
     "library": "var_list.r",
     "varRefreshCmd": "cat(var_dic_list()) "
    }
   },
   "types_to_exclude": [
    "module",
    "function",
    "builtin_function_or_method",
    "instance",
    "_Feature"
   ],
   "window_display": false
  }
 },
 "nbformat": 4,
 "nbformat_minor": 4
}
