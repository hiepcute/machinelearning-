{
 "cells": [
  {
   "cell_type": "markdown",
   "metadata": {},
   "source": [
    "# Bài tập 5\n",
    "Đỗ Văn Hiệp -1712429\n"
   ]
  },
  {
   "cell_type": "markdown",
   "metadata": {},
   "source": [
    "## Câu 1 (1 điểm)"
   ]
  },
  {
   "cell_type": "markdown",
   "metadata": {
    "deletable": false,
    "nbgrader": {
     "cell_type": "markdown",
     "checksum": "2e83d862b3c5fd4fb57d72c50e8115f8",
     "grade": true,
     "grade_id": "c1",
     "locked": false,
     "points": 1,
     "schema_version": 3,
     "solution": true,
     "task": false
    }
   },
   "source": [
    "chọn đáp án C\n",
    "do em không gõ được latex nên em chèn link google driver , mong cô thông cảm cho em ạ\n",
    "https://drive.google.com/file/d/1lk8XfsNspa1JG_YR8QY_9N8BhdXtBqf9/view?usp=sharing"
   ]
  },
  {
   "cell_type": "markdown",
   "metadata": {},
   "source": [
    "## Câu 2 (1 điểm)"
   ]
  },
  {
   "cell_type": "markdown",
   "metadata": {
    "deletable": false,
    "nbgrader": {
     "cell_type": "markdown",
     "checksum": "47d4e2bb3e4812ef7b37e032a898cfec",
     "grade": true,
     "grade_id": "c2",
     "locked": false,
     "points": 1,
     "schema_version": 3,
     "solution": true,
     "task": false
    }
   },
   "source": [
    "nhìn vào đồ thị ta thấy đây là 1 hình hypebolic chia thành 2 đường cong đối xứng nhau\n",
    "với mọi phép biến đổi bậc 2 thì h(x)= sign(w_0+w_1*(x_1)^2+w_2*(x_2)^2)\n",
    "nhìn vào hình chúng ta có thể thấy , w_2 quyết định dấu của x_2^2, w_1 quyết định dấu của x_1^2\n",
    "mà khi x_1 lớn thì h(x) sẽ âm , suy ra w_1<0\n",
    "khi x_2 lớn thì h(x) dương ,w_2 >0\n",
    "chọn câu D"
   ]
  },
  {
   "cell_type": "markdown",
   "metadata": {},
   "source": [
    "## Câu 3 (1 điểm)"
   ]
  },
  {
   "cell_type": "markdown",
   "metadata": {
    "deletable": false,
    "nbgrader": {
     "cell_type": "markdown",
     "checksum": "0997a909d9ab1f250c2bfd0645fee970",
     "grade": true,
     "grade_id": "c3",
     "locked": false,
     "points": 1,
     "schema_version": 3,
     "solution": true,
     "task": false
    }
   },
   "source": [
    "sử dụng công thức trong slide như theo hướng dẫn N_dvc=d+1=14+1=15\n",
    "chọn câu C"
   ]
  },
  {
   "cell_type": "markdown",
   "metadata": {},
   "source": [
    "## Câu 4 (1 điểm)"
   ]
  },
  {
   "cell_type": "markdown",
   "metadata": {
    "deletable": false,
    "nbgrader": {
     "cell_type": "markdown",
     "checksum": "efabab5c4035a6864ac8cb3e0061c6f0",
     "grade": true,
     "grade_id": "c4",
     "locked": false,
     "points": 1,
     "schema_version": 3,
     "solution": true,
     "task": false
    }
   },
   "source": [
    "áp dụng công thức đạo hàm hàm hợp  f(g(x))'=g'(x)*f'(g(x))\n",
    "ở đây ta cần tính đạo hàm cái biểu thức kia\n",
    "em gõ công thức rồi chèn link driver vô ạ\n",
    "chọn câu E\n",
    "https://drive.google.com/file/d/1bfbVQ6ESgZXwZMoqqn5StNkeExNBiY1Z/view?usp=sharing"
   ]
  },
  {
   "cell_type": "markdown",
   "metadata": {},
   "source": [
    "## Câu 5 (1 điểm)"
   ]
  },
  {
   "cell_type": "code",
   "execution_count": null,
   "metadata": {},
   "outputs": [],
   "source": [
    "import numpy as np\n",
    "import math\n",
    "# tính hàm lỗi\n",
    "def error(u,v):\n",
    "    return (u*math.exp(v)-2*v*math.exp(-u))**2\n",
    "#tính hàm lỗi khi mà đạo hàm theo u\n",
    "def error_u(u,v):\n",
    "    return 2*(math.exp(v)+2*v*math.exp(-u))*(u*math.exp(v)-2*v*math.exp(-u))\n",
    "#tính hàm lỗi khi mà đạo hàm theo v\n",
    "def error_v(u,v):\n",
    "    return 2*(u*math.exp(v)-2*v*math.exp(-u))*(u*math.exp(v)-2*math.exp(-u))\n",
    "start_u=1\n",
    "start_v=1\n",
    "threshold=10e-14\n",
    "def GD(start_u, start_v, threshold,learning_rate):\n",
    "    #tính độ lỗi bắt đầu\n",
    "    num_loop=0\n",
    "    error_cur=error(start_u,start_v)\n",
    "    while(error_cur>=threshold):\n",
    "        temp_u=start_u-learning_rate*error_u(start_u,start_v)\n",
    "        temp_v=start_v-learning_rate*error_v(start_u,start_v)\n",
    "        start_u=temp_u\n",
    "        start_v=temp_v\n",
    "        #print(start_u)\n",
    "        #print(start_v)\n",
    "        error_cur=error(start_u,start_v)\n",
    "        num_loop=num_loop+1\n",
    "    return num_loop\n",
    "loop=GD(start_u,start_v,threshold,0.1)\n",
    "print(loop)"
   ]
  },
  {
   "cell_type": "markdown",
   "metadata": {
    "deletable": false,
    "nbgrader": {
     "cell_type": "markdown",
     "checksum": "0b484b8390bec96142e8a1213ee8cd2c",
     "grade": true,
     "grade_id": "c5",
     "locked": false,
     "points": 1,
     "schema_version": 3,
     "solution": true,
     "task": false
    }
   },
   "source": [
    "chọn D"
   ]
  },
  {
   "cell_type": "markdown",
   "metadata": {},
   "source": [
    "## Câu 6 (1 điểm)"
   ]
  },
  {
   "cell_type": "code",
   "execution_count": null,
   "metadata": {},
   "outputs": [],
   "source": [
    "import numpy as np\n",
    "import math\n",
    "# tính hàm lỗi\n",
    "def error(u,v):\n",
    "    return (u*math.exp(v)-2*v*math.exp(-u))**2\n",
    "#tính hàm lỗi khi mà đạo hàm theo u\n",
    "def error_u(u,v):\n",
    "    return 2*(math.exp(v)+2*v*math.exp(-u))*(u*math.exp(v)-2*v*math.exp(-u))\n",
    "#tính hàm lỗi khi mà đạo hàm theo v\n",
    "def error_v(u,v):\n",
    "    return 2*(u*math.exp(v)-2*v*math.exp(-u))*(u*math.exp(v)-2*math.exp(-u))\n",
    "start_u=1\n",
    "start_v=1\n",
    "threshold=10e-14\n",
    "def GD(start_u, start_v, threshold,learning_rate):\n",
    "    #tính độ lỗi bắt đầu\n",
    "    num_loop=0\n",
    "    error_cur=error(start_u,start_v)\n",
    "    while(error_cur>=threshold):\n",
    "        temp_u=start_u-learning_rate*error_u(start_u,start_v)\n",
    "        temp_v=start_v-learning_rate*error_v(start_u,start_v)\n",
    "        start_u=temp_u\n",
    "        start_v=temp_v\n",
    "        #print(start_u)\n",
    "        #print(start_v)\n",
    "        error_cur=error(start_u,start_v)\n",
    "        num_loop=num_loop+1\n",
    "    return num_loop,start_u,start_v\n",
    "loop,u,v=GD(start_u,start_v,threshold,0.1)\n",
    "print(loop)\n",
    "print(u)\n",
    "print(v)\n"
   ]
  },
  {
   "cell_type": "markdown",
   "metadata": {
    "deletable": false,
    "nbgrader": {
     "cell_type": "markdown",
     "checksum": "26f542221236fb24d0ddbee584eed7d0",
     "grade": true,
     "grade_id": "c6",
     "locked": false,
     "points": 1,
     "schema_version": 3,
     "solution": true,
     "task": false
    }
   },
   "source": [
    "chọn đáp án E"
   ]
  },
  {
   "cell_type": "markdown",
   "metadata": {},
   "source": [
    "## Câu 7 (1 điểm)"
   ]
  },
  {
   "cell_type": "code",
   "execution_count": null,
   "metadata": {},
   "outputs": [],
   "source": [
    "import numpy as np\n",
    "import math\n",
    "# tính hàm lỗi\n",
    "def error(u,v):\n",
    "    return (u*math.exp(v)-2*v*math.exp(-u))**2\n",
    "#tính hàm lỗi khi mà đạo hàm theo u\n",
    "def error_u(u,v):\n",
    "    return 2*(math.exp(v)+2*v*math.exp(-u))*(u*math.exp(v)-2*v*math.exp(-u))\n",
    "#tính hàm lỗi khi mà đạo hàm theo v\n",
    "def error_v(u,v):\n",
    "    return 2*(u*math.exp(v)-2*v*math.exp(-u))*(u*math.exp(v)-2*math.exp(-u))\n",
    "start_u=1\n",
    "start_v=1\n",
    "threshold=10e-14\n",
    "def GD_ver2(start_u, start_v, threshold,learning_rate):\n",
    "    #tính độ lỗi bắt đầu\n",
    "    error_cur=0\n",
    "    \n",
    "    for i in range(15):\n",
    "        \n",
    "        temp_u=start_u-learning_rate*error_u(start_u,start_v)\n",
    "        start_u=temp_u\n",
    "        temp_v=start_v-learning_rate*error_v(start_u,start_v)\n",
    "        start_v=temp_v\n",
    "        error_cur=error(start_u,start_v)\n",
    "        \n",
    "    return error_cur\n",
    "er=GD_ver2(start_u,start_v,threshold,0.1)\n",
    "print(er)"
   ]
  },
  {
   "cell_type": "code",
   "execution_count": null,
   "metadata": {
    "deletable": false,
    "nbgrader": {
     "cell_type": "markdown",
     "checksum": "322a244b0fae3a20ec568a5099aaaec1",
     "grade": true,
     "grade_id": "c7",
     "locked": false,
     "points": 1,
     "schema_version": 3,
     "solution": true,
     "task": false
    }
   },
   "outputs": [],
   "source": [
    "chọn A"
   ]
  },
  {
   "cell_type": "markdown",
   "metadata": {},
   "source": [
    "## Câu 8 (1 điểm)"
   ]
  },
  {
   "cell_type": "markdown",
   "metadata": {
    "deletable": false,
    "nbgrader": {
     "cell_type": "markdown",
     "checksum": "d81773f072cd15e4a27b6cd240a5d990",
     "grade": true,
     "grade_id": "c8",
     "locked": false,
     "points": 1,
     "schema_version": 3,
     "solution": true,
     "task": false
    }
   },
   "source": [
    "YOUR ANSWER HERE"
   ]
  },
  {
   "cell_type": "markdown",
   "metadata": {},
   "source": [
    "## Câu 9 (1 điểm)"
   ]
  },
  {
   "cell_type": "markdown",
   "metadata": {
    "deletable": false,
    "nbgrader": {
     "cell_type": "markdown",
     "checksum": "e814a2db0b8a53e4fddfee4bcbf405fc",
     "grade": true,
     "grade_id": "c9",
     "locked": false,
     "points": 1,
     "schema_version": 3,
     "solution": true,
     "task": false
    }
   },
   "source": [
    "YOUR ANSWER HERE"
   ]
  },
  {
   "cell_type": "markdown",
   "metadata": {},
   "source": [
    "## Câu 10 (1 điểm)"
   ]
  },
  {
   "cell_type": "markdown",
   "metadata": {
    "deletable": false,
    "nbgrader": {
     "cell_type": "markdown",
     "checksum": "41cbf5c6d2b94eeae0a712be2181fef6",
     "grade": true,
     "grade_id": "c10",
     "locked": false,
     "points": 1,
     "schema_version": 3,
     "solution": true,
     "task": false
    }
   },
   "source": [
    "YOUR ANSWER HERE"
   ]
  }
 ],
 "metadata": {
  "kernelspec": {
   "display_name": "Python 3",
   "language": "python",
   "name": "python3"
  },
  "language_info": {
   "codemirror_mode": {
    "name": "ipython",
    "version": 3
   },
   "file_extension": ".py",
   "mimetype": "text/x-python",
   "name": "python",
   "nbconvert_exporter": "python",
   "pygments_lexer": "ipython3",
   "version": "3.7.1"
  },
  "toc": {
   "base_numbering": 1,
   "nav_menu": {},
   "number_sections": true,
   "sideBar": true,
   "skip_h1_title": false,
   "title_cell": "Table of Contents",
   "title_sidebar": "Contents",
   "toc_cell": false,
   "toc_position": {},
   "toc_section_display": true,
   "toc_window_display": false
  },
  "varInspector": {
   "cols": {
    "lenName": 16,
    "lenType": 16,
    "lenVar": 40
   },
   "kernels_config": {
    "python": {
     "delete_cmd_postfix": "",
     "delete_cmd_prefix": "del ",
     "library": "var_list.py",
     "varRefreshCmd": "print(var_dic_list())"
    },
    "r": {
     "delete_cmd_postfix": ") ",
     "delete_cmd_prefix": "rm(",
     "library": "var_list.r",
     "varRefreshCmd": "cat(var_dic_list()) "
    }
   },
   "types_to_exclude": [
    "module",
    "function",
    "builtin_function_or_method",
    "instance",
    "_Feature"
   ],
   "window_display": false
  }
 },
 "nbformat": 4,
 "nbformat_minor": 4
}
