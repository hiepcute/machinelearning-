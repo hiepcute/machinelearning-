{
 "cells": [
  {
   "cell_type": "markdown",
   "metadata": {},
   "source": [
    "# Bài tập 1\n",
    "\n",
    "Đỗ Văn Hiệp -1712429"
   ]
  },
  {
   "cell_type": "markdown",
   "metadata": {},
   "source": [
    "## Câu 1 (1 điểm)"
   ]
  },
  {
   "cell_type": "markdown",
   "metadata": {
    "deletable": false,
    "nbgrader": {
     "cell_type": "markdown",
     "checksum": "2e83d862b3c5fd4fb57d72c50e8115f8",
     "grade": true,
     "grade_id": "c1",
     "locked": false,
     "points": 1,
     "schema_version": 3,
     "solution": true,
     "task": false
    }
   },
   "source": [
    "chọn D : vì câu ii do cái đồng tiền đã được gán label ,cái giải thuật này sẽ sử dụng data để tìm boundaries từ đó nó có thể phân loại được các đồng tiền =>đây là bài toán phân loại => đây là học có giảm sát\n",
    "ý (iii) : vì cái máy tính này phát triển chiến lược chơi game bằng cách chơi cho chơi đi chơi lại , điều chỉnh và xử phạt nó ,\n",
    "rút ra kinh nghiệm để chơi tốt hơn  => đây là học tăng cường\n",
    "ý (i):đây là có các thông tin chính xác như kích cỡ ,trọng lượng ,mệnh giá , có các đại lượng chính xác ta có thể tìm đưowjc \n",
    "một hàm để phân loại chính xác mà không cần học từ dữ liệu ( ví dụ như muốn kiểm tra một số có phải số nguyên tố , ta viết được hàm chính xác luôn mà không cần học từ dữ liệu )=> not learing \n",
    "\n"
   ]
  },
  {
   "cell_type": "markdown",
   "metadata": {
    "heading_collapsed": true
   },
   "source": [
    "## Câu 2 (1 điểm)"
   ]
  },
  {
   "cell_type": "markdown",
   "metadata": {
    "deletable": false,
    "hidden": true,
    "nbgrader": {
     "cell_type": "markdown",
     "checksum": "47d4e2bb3e4812ef7b37e032a898cfec",
     "grade": true,
     "grade_id": "c2",
     "locked": false,
     "points": 1,
     "schema_version": 3,
     "solution": true,
     "task": false
    }
   },
   "source": [
    "chọn A: ý (i) ta có thể phân loại số nguyên tố or không phải số nguyên tố bằng 1 hàm tự viết được chính xác (dựa  toán học ) chứ không cần phải học từ dữ liệu => not machine learning\n",
    "ý(ii):phát hiện gian lận tiềm ẩn trong  phí thẻ tín dụng , ta có thể học từ dữ liệu có sẵn , rồi tìm ra một giả thuyết để khi đưa một ví dụ vào thì có thể phát hiện gian lận , đây là một bài toán học có giám sát\n",
    "ý (iii) ta có thể tính chính xác thời gian vật rơi bằng cách sử dụng công thức vật lý (h=gt^2/2 ) không cần sử dụng machine learing\n",
    "ý(iv) xác định chu trình tối ưu cho đèn giao thông , có dữ liệu đèn giao thông , các khung giờ, cứ cho lặp đi lặp lại , học trên kinh nghiệm đó, đây là học tăng cường => machine learning\n"
   ]
  },
  {
   "cell_type": "markdown",
   "metadata": {
    "heading_collapsed": true
   },
   "source": [
    "## Câu 3 (1 điểm)"
   ]
  },
  {
   "cell_type": "markdown",
   "metadata": {
    "deletable": false,
    "hidden": true,
    "nbgrader": {
     "cell_type": "markdown",
     "checksum": "0997a909d9ab1f250c2bfd0645fee970",
     "grade": true,
     "grade_id": "c3",
     "locked": false,
     "points": 1,
     "schema_version": 3,
     "solution": true,
     "task": false
    }
   },
   "source": [
    "chọn D :gọi A là biến cố  bốc được bóng đen túi 1\n",
    "        gọi B là biến  cố bốc được bóng đen ở trong túi 2\n",
    "        gọi C là biến cố bôc được quả bóng đen  => P(C)=3/4 vì có 3 quả bóng đen và 4 quả bóng \n",
    "        vì bốc lần 1 trong túi 1 cũng màu đen , lần 2 cũng trong túi đó là màu đen , nên không thể xảy ra bốc trong túi 2 được\n",
    "        vì túi 2 chứa 1 bi trắng và 1 bi đen \n",
    "        xác suất để bốc bi đen trong túi thứ 2 là P(B)=1/2\n",
    "            vì vậy ta bốc P(A/C)=P(C/A)*P(A)/P(C)=1/2/(3/4)=2/3"
   ]
  },
  {
   "cell_type": "markdown",
   "metadata": {
    "heading_collapsed": true
   },
   "source": [
    "## Câu 4 (1 điểm)"
   ]
  },
  {
   "cell_type": "markdown",
   "metadata": {
    "deletable": false,
    "hidden": true,
    "nbgrader": {
     "cell_type": "markdown",
     "checksum": "efabab5c4035a6864ac8cb3e0061c6f0",
     "grade": true,
     "grade_id": "c4",
     "locked": false,
     "points": 1,
     "schema_version": 3,
     "solution": true,
     "task": false
    }
   },
   "source": [
    "chọn B : xác suất để vẽ 1 viên đá không phải màu đỏ là 1-0.55=0.45\n",
    "mà có 10 viên , nên xác suất  là 0.45^10=3.405*10^-4"
   ]
  },
  {
   "cell_type": "markdown",
   "metadata": {
    "heading_collapsed": true
   },
   "source": [
    "## Câu 5 (1 điểm)"
   ]
  },
  {
   "cell_type": "markdown",
   "metadata": {
    "deletable": false,
    "hidden": true,
    "nbgrader": {
     "cell_type": "markdown",
     "checksum": "0b484b8390bec96142e8a1213ee8cd2c",
     "grade": true,
     "grade_id": "c5",
     "locked": false,
     "points": 1,
     "schema_version": 3,
     "solution": true,
     "task": false
    }
   },
   "source": [
    "chọn C: xác suất của 1 mẫu không có màu đỏ (v=0) là : 0.45^10\n",
    "        xác suất của 1 mẫu có ít nhất có 1 màu đỏ là : 1-0.45^10\n",
    "        xác suất của 1000 mẫu có ít nhất 1 màu đỏ là :(1-0.45)^1000\n",
    "  áp dụng quy tắc bù trừ :\n",
    "  xác suất của 1000 mẫu có ít nhất 1 mẫu không có màu đỏ là 1-(1-0.45)^1000=0.289\n",
    "  cách 2 : là xác suất để 1000 mẫu đều màu đỏ là :0.55^1000\n",
    "  xác suất trong 1000 mẫu có ít nhất 1 mẫu không phải màu đỏ là 1-0.55^1000=0.289"
   ]
  },
  {
   "cell_type": "markdown",
   "metadata": {
    "heading_collapsed": true
   },
   "source": [
    "## Câu 6 (1 điểm)"
   ]
  },
  {
   "cell_type": "markdown",
   "metadata": {
    "deletable": false,
    "hidden": true,
    "nbgrader": {
     "cell_type": "markdown",
     "checksum": "26f542221236fb24d0ddbee584eed7d0",
     "grade": true,
     "grade_id": "c6",
     "locked": false,
     "points": 1,
     "schema_version": 3,
     "solution": true,
     "task": false
    }
   },
   "source": [
    "YOUR ANSWER HERE"
   ]
  },
  {
   "cell_type": "markdown",
   "metadata": {
    "heading_collapsed": true
   },
   "source": [
    "## Câu 7 (1 điểm)"
   ]
  },
  {
   "cell_type": "code",
   "execution_count": 1,
   "metadata": {},
   "outputs": [
    {
     "name": "stdout",
     "output_type": "stream",
     "text": [
      "avg_num_iterations = 9.933000\n",
      "avg_test_err = 0.112415\n"
     ]
    }
   ],
   "source": [
    "import numpy as np\n",
    "def generate_target_w():\n",
    "    p1=np.random.uniform(-1,1,2)# khoi tao ran dom 2 diem trong khoang (-1,1)\n",
    "    p2=np.random.uniform(-1,1,2)\n",
    "   \n",
    "    target_w = np.array([p1[1]*p2[0] - p1[0]*p2[1], p2[1] - p1[1], p1[0] - p2[0]]).reshape((-1, 1))\n",
    "    return target_w\n",
    "def generate_data(N,target_w):\n",
    "    bad_data=True\n",
    "    while bad_data==True:\n",
    "        X = np.random.uniform(-1, 1, (N, 2))\n",
    "        X = np.hstack((np.ones((N, 1)), X)) # Add 'ones' column\n",
    "        Y = np.sign(np.dot(X, target_w))\n",
    "        if (0 not in Y): # Good data\n",
    "            bad_data = False\n",
    "    return X, Y\n",
    "\n",
    "def run_PLA(X,Y):\n",
    "    w = np.zeros((X.shape[1], 1))\n",
    "    N=len(X)\n",
    "    iteration = 0\n",
    "    k=0\n",
    "    \n",
    "    while True:\n",
    "        iteration=iteration+1\n",
    "        index=[]\n",
    "        #tim vi tri  bi phan lop sai \n",
    "        missclass=np.sign(np.dot(X,w))\n",
    "        for i in range(N):\n",
    "            if missclass[i]!=Y[i]:\n",
    "                index.append(i)\n",
    "        #chon ngau nhien 1 diem trong tap bi phan lop sai \n",
    "        id_random=np.random.choice(index,1)\n",
    "        \n",
    "        x_i=X[id_random].reshape(3,1)\n",
    "        y_i=Y[id_random]\n",
    "        dot=(y_i*x_i).reshape(3,1)\n",
    "        #cap nhat trong so\n",
    "        w=w+dot\n",
    "        #xem hoi tu chua\n",
    "        Y_new = np.sign(np.dot(X, w))\n",
    "        if np.array_equal(Y,Y_new):\n",
    "            break\n",
    "        \n",
    "        \n",
    "        \n",
    "            \n",
    "    return w,iteration\n",
    "def main(N): # You don't have to name this function \"main\", you can use other names\n",
    "    \"\"\"\n",
    "    Parameters\n",
    "    ----------\n",
    "    N : int\n",
    "        The number of training examples.\n",
    "    \"\"\"\n",
    "    num_runs = 1000\n",
    "    avg_num_iterations = 0.0 # The average number of iterations PLA takes to converge\n",
    "    avg_test_err = 0.0 # The average test error of g - the final hypothesis picked by PLA\n",
    "    \n",
    "    for r in range(num_runs):\n",
    "        # Generate target_w\n",
    "        target_w = generate_target_w()\n",
    "        \n",
    "        # Generate training set\n",
    "        X, Y = generate_data(N, target_w)\n",
    "        \n",
    "        # Run PLA to pick g\n",
    "        w, num_iterations = run_PLA(X, Y)\n",
    "        \n",
    "        # Generate test set\n",
    "        X_test, Y_test = generate_data(10000, target_w)\n",
    "        \n",
    "        # Test g\n",
    "        test_err = np.mean(np.sign(np.dot(X_test, w)) != Y_test)\n",
    "        \n",
    "        # Update average values\n",
    "        avg_num_iterations += (num_iterations * 1.0 / num_runs)\n",
    "        avg_test_err += (test_err * 1.0 / num_runs)\n",
    "    \n",
    "    # Print results\n",
    "    print('avg_num_iterations = %f' % (avg_num_iterations))\n",
    "    print('avg_test_err = %f' % (avg_test_err))\n",
    "main(N=10)        "
   ]
  },
  {
   "cell_type": "markdown",
   "metadata": {
    "deletable": false,
    "hidden": true,
    "nbgrader": {
     "cell_type": "markdown",
     "checksum": "322a244b0fae3a20ec568a5099aaaec1",
     "grade": true,
     "grade_id": "c7",
     "locked": false,
     "points": 1,
     "schema_version": 3,
     "solution": true,
     "task": false
    }
   },
   "source": [
    "câu B: dựa theo đoạn code ở trên thay hàm Main bằng N=10"
   ]
  },
  {
   "cell_type": "markdown",
   "metadata": {
    "heading_collapsed": true
   },
   "source": [
    "## Câu 8 (1 điểm)"
   ]
  },
  {
   "cell_type": "markdown",
   "metadata": {
    "deletable": false,
    "hidden": true,
    "nbgrader": {
     "cell_type": "markdown",
     "checksum": "d81773f072cd15e4a27b6cd240a5d990",
     "grade": true,
     "grade_id": "c8",
     "locked": false,
     "points": 1,
     "schema_version": 3,
     "solution": true,
     "task": false
    }
   },
   "source": [
    "câu C :dựa theo code ở trên chọn đáp án là  với avg_test_err"
   ]
  },
  {
   "cell_type": "markdown",
   "metadata": {
    "heading_collapsed": true
   },
   "source": [
    "## Câu 9 (1 điểm)"
   ]
  },
  {
   "cell_type": "code",
   "execution_count": 2,
   "metadata": {},
   "outputs": [
    {
     "name": "stdout",
     "output_type": "stream",
     "text": [
      "avg_num_iterations = 100.898000\n",
      "avg_test_err = 0.013654\n"
     ]
    }
   ],
   "source": [
    "import numpy as np\n",
    "def generate_target_w():\n",
    "    p1=np.random.uniform(-1,1,2)# khoi tao ran dom 2 diem trong khoang (-1,1)\n",
    "    p2=np.random.uniform(-1,1,2)\n",
    "   \n",
    "    target_w = np.array([p1[1]*p2[0] - p1[0]*p2[1], p2[1] - p1[1], p1[0] - p2[0]]).reshape((-1, 1))\n",
    "    return target_w\n",
    "def generate_data(N,target_w):\n",
    "    bad_data=True\n",
    "    while bad_data==True:\n",
    "        X = np.random.uniform(-1, 1, (N, 2))\n",
    "        X = np.hstack((np.ones((N, 1)), X)) # Add 'ones' column\n",
    "        Y = np.sign(np.dot(X, target_w))\n",
    "        if (0 not in Y): # Good data\n",
    "            bad_data = False\n",
    "    return X, Y\n",
    "\n",
    "def run_PLA(X,Y):\n",
    "    w = np.zeros((X.shape[1], 1))\n",
    "    N=len(X)\n",
    "    iteration = 0\n",
    "    k=0\n",
    "    \n",
    "    while True:\n",
    "        iteration=iteration+1\n",
    "        index=[]\n",
    "        #tim vi tri  bi phan lop sai \n",
    "        missclass=np.sign(np.dot(X,w))\n",
    "        for i in range(N):\n",
    "            if missclass[i]!=Y[i]:\n",
    "                index.append(i)\n",
    "        #chon ngau nhien 1 diem trong tap bi phan lop sai \n",
    "        id_random=np.random.choice(index,1)\n",
    "        \n",
    "        x_i=X[id_random].reshape(3,1)\n",
    "        y_i=Y[id_random]\n",
    "        dot=(y_i*x_i).reshape(3,1)\n",
    "        #cap nhat trong so\n",
    "        w=w+dot\n",
    "        #xem hoi tu chua\n",
    "        Y_new = np.sign(np.dot(X, w))\n",
    "        if np.array_equal(Y,Y_new):\n",
    "            break\n",
    "        \n",
    "        \n",
    "        \n",
    "            \n",
    "    return w,iteration\n",
    "def main(N): # You don't have to name this function \"main\", you can use other names\n",
    "    \"\"\"\n",
    "    Parameters\n",
    "    ----------\n",
    "    N : int\n",
    "        The number of training examples.\n",
    "    \"\"\"\n",
    "    num_runs = 1000\n",
    "    avg_num_iterations = 0.0 # The average number of iterations PLA takes to converge\n",
    "    avg_test_err = 0.0 # The average test error of g - the final hypothesis picked by PLA\n",
    "    \n",
    "    for r in range(num_runs):\n",
    "        # Generate target_w\n",
    "        target_w = generate_target_w()\n",
    "        \n",
    "        # Generate training set\n",
    "        X, Y = generate_data(N, target_w)\n",
    "        \n",
    "        # Run PLA to pick g\n",
    "        w, num_iterations = run_PLA(X, Y)\n",
    "        \n",
    "        # Generate test set\n",
    "        X_test, Y_test = generate_data(10000, target_w)\n",
    "        \n",
    "        # Test g\n",
    "        test_err = np.mean(np.sign(np.dot(X_test, w)) != Y_test)\n",
    "        \n",
    "        # Update average values\n",
    "        avg_num_iterations += (num_iterations * 1.0 / num_runs)\n",
    "        avg_test_err += (test_err * 1.0 / num_runs)\n",
    "    \n",
    "    # Print results\n",
    "    print('avg_num_iterations = %f' % (avg_num_iterations))\n",
    "    print('avg_test_err = %f' % (avg_test_err))\n",
    "main(N=100)        "
   ]
  },
  {
   "cell_type": "markdown",
   "metadata": {
    "deletable": false,
    "hidden": true,
    "nbgrader": {
     "cell_type": "markdown",
     "checksum": "e814a2db0b8a53e4fddfee4bcbf405fc",
     "grade": true,
     "grade_id": "c9",
     "locked": false,
     "points": 1,
     "schema_version": 3,
     "solution": true,
     "task": false
    }
   },
   "source": [
    "chọn đáp án B thay code ở  với N=100"
   ]
  },
  {
   "cell_type": "markdown",
   "metadata": {},
   "source": [
    "## Câu 10 (1 điểm)"
   ]
  },
  {
   "cell_type": "markdown",
   "metadata": {
    "deletable": false,
    "nbgrader": {
     "cell_type": "markdown",
     "checksum": "41cbf5c6d2b94eeae0a712be2181fef6",
     "grade": true,
     "grade_id": "c10",
     "locked": false,
     "points": 1,
     "schema_version": 3,
     "solution": true,
     "task": false
    }
   },
   "source": [
    "chọn đáp án B với avg_test_err ~0.01"
   ]
  }
 ],
 "metadata": {
  "kernelspec": {
   "display_name": "Python 3",
   "language": "python",
   "name": "python3"
  },
  "language_info": {
   "codemirror_mode": {
    "name": "ipython",
    "version": 3
   },
   "file_extension": ".py",
   "mimetype": "text/x-python",
   "name": "python",
   "nbconvert_exporter": "python",
   "pygments_lexer": "ipython3",
   "version": "3.7.1"
  },
  "toc": {
   "base_numbering": 1,
   "nav_menu": {},
   "number_sections": true,
   "sideBar": true,
   "skip_h1_title": false,
   "title_cell": "Table of Contents",
   "title_sidebar": "Contents",
   "toc_cell": false,
   "toc_position": {},
   "toc_section_display": true,
   "toc_window_display": false
  },
  "varInspector": {
   "cols": {
    "lenName": 16,
    "lenType": 16,
    "lenVar": 40
   },
   "kernels_config": {
    "python": {
     "delete_cmd_postfix": "",
     "delete_cmd_prefix": "del ",
     "library": "var_list.py",
     "varRefreshCmd": "print(var_dic_list())"
    },
    "r": {
     "delete_cmd_postfix": ") ",
     "delete_cmd_prefix": "rm(",
     "library": "var_list.r",
     "varRefreshCmd": "cat(var_dic_list()) "
    }
   },
   "types_to_exclude": [
    "module",
    "function",
    "builtin_function_or_method",
    "instance",
    "_Feature"
   ],
   "window_display": false
  }
 },
 "nbformat": 4,
 "nbformat_minor": 4
}
