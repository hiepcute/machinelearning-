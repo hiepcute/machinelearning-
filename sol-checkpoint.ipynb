{
 "cells": [
  {
   "cell_type": "markdown",
   "metadata": {},
   "source": [
    "# Bài tập 4\n",
    "\n",
    "Đặng Thái Gia Thuận - 1712173"
   ]
  },
  {
   "cell_type": "markdown",
   "metadata": {},
   "source": [
    "## Câu 1 (1 điểm)"
   ]
  },
  {
   "cell_type": "markdown",
   "metadata": {},
   "source": [
    "Ta giải phương trình $\\epsilon = \\sqrt{\\frac{8}{N} ln \\frac{4m_\\mathcal{H}(2N)}{\\delta} } $ để tìm N <br>\n",
    "&emsp; &emsp; &emsp; &emsp; &emsp; &ensp; $\\Leftrightarrow N = \\frac{8}{\\epsilon^2} ln \\frac{4m_\\mathcal{H}(2N)}{\\delta} $ với $m_\\mathcal{H}(N) \\approx N^{d_{VC}}$ <br>\n",
    "&emsp; &emsp; &emsp; &emsp; &emsp; &ensp; $\\Leftrightarrow N = \\frac{8}{\\epsilon^2} ln \\frac{4(2N)^{d_{VC}}}{\\delta}$  <br>\n",
    "&emsp; &emsp; &emsp; &emsp; &emsp; &ensp; $\\Leftrightarrow N = \\frac{8}{0.05^2} ln \\frac{4(2N)^{10}}{0.05}$"
   ]
  },
  {
   "cell_type": "code",
   "execution_count": 1,
   "metadata": {},
   "outputs": [
    {
     "name": "stdout",
     "output_type": "stream",
     "text": [
      "452956.8624225618\n"
     ]
    }
   ],
   "source": [
    "import numpy as np\n",
    "\n",
    "init_N = 1000\n",
    "get_N = []\n",
    "while True:\n",
    "    new_N = (8/(0.05**2))*np.log((4*((2*init_N)**10)/0.05))\n",
    "    get_N.append(new_N)\n",
    "    if round(init_N,0) == round(new_N,0):\n",
    "        break\n",
    "    init_N = new_N\n",
    "num_N = get_N[len(get_N)-1]\n",
    "print(num_N)"
   ]
  },
  {
   "cell_type": "markdown",
   "metadata": {
    "deletable": false,
    "nbgrader": {
     "cell_type": "markdown",
     "checksum": "2e83d862b3c5fd4fb57d72c50e8115f8",
     "grade": true,
     "grade_id": "c1",
     "locked": false,
     "points": 1,
     "schema_version": 3,
     "solution": true,
     "task": false
    }
   },
   "source": [
    "Do đó, em chọn đáp án [**d**] 460,000"
   ]
  },
  {
   "cell_type": "markdown",
   "metadata": {},
   "source": [
    "## Câu 2 (1 điểm)"
   ]
  },
  {
   "cell_type": "markdown",
   "metadata": {},
   "source": [
    "Theo đề bài, thì $N > d_{VC}$ thì $m_\\mathcal{H}(N) \\approx N^{d_{VC}}$.\n",
    "\n",
    "[a] Original VC bound: $\\epsilon \\leq \\sqrt{\\frac{8}{N} ln \\frac{4m_\\mathcal{H}(2N)}{\\delta} }  = \\sqrt{\\frac{8}{N} (ln \\frac{4}{\\delta} + d_{VC}ln(2N)) }$ <br>\n",
    "[b] Rademacher Penalty Bound:\n",
    "$$\\epsilon \\leq \\sqrt{\\frac{2 ln(2N m_\\mathcal{H}(N))}{N}} + \\sqrt{\\frac{2}{N} ln \\frac{1}{\\delta}} + \\frac{1}{N}$$\n",
    "$$= \\sqrt{\\frac{2 ln(2N (N^{d_{VC}}))}{N}} + \\sqrt{\\frac{2}{N} ln \\frac{1}{\\delta}} + \\frac{1}{N}$$\n",
    "$$= \\sqrt{\\frac{2}{N} (ln(2N) + d_{VC}ln(N))} + \\sqrt{\\frac{2}{N} ln \\frac{1}{\\delta}} + \\frac{1}{N}\n",
    "$$\n",
    "[c] Parrondo and Van den Broek:\n",
    "$$\\epsilon \\leq \\sqrt{\\frac{1}{N}(2\\epsilon + ln \\frac{6 m_\\mathcal{H}(2N)}{\\delta})}$$\n",
    "$$= \\sqrt{\\frac{1}{N}(2\\epsilon + ln \\frac{6(2N)^{d_{VC}}}{\\delta})}$$\n",
    "$$= \\sqrt{\\frac{1}{N}(2\\epsilon + ln \\frac{6}{\\delta} + d_{VC}ln(2N))}$$\n",
    "[d] Devroye:\n",
    "$$\\epsilon \\leq \\sqrt{\\frac{1}{2N}(4\\epsilon(1+\\epsilon) + ln \\frac{4 m_\\mathcal{H}(N^2)}{\\delta})}$$\n",
    "$$= \\sqrt{\\frac{1}{2N}(4\\epsilon(1+\\epsilon) + ln \\frac{4N^{2d_{VC}}}{\\delta})}$$\n",
    "$$= \\sqrt{\\frac{1}{2N}(4\\epsilon(1+\\epsilon) + ln \\frac{4}{\\delta}+2d_{VC}ln(N))}$$"
   ]
  },
  {
   "cell_type": "code",
   "execution_count": 2,
   "metadata": {},
   "outputs": [],
   "source": [
    "import numpy as np\n",
    "import matplotlib.pyplot as plt\n",
    "\n",
    "delta = 0.05\n",
    "dvc = 50"
   ]
  },
  {
   "cell_type": "code",
   "execution_count": 3,
   "metadata": {},
   "outputs": [
    {
     "name": "stdout",
     "output_type": "stream",
     "text": [
      "[0.22404505559587526, 0.22369844869394606]\n"
     ]
    }
   ],
   "source": [
    "# Tim epsilon cho Parrondo and Van den Broek bound\n",
    "epsilon = 1 \n",
    "get_epsPVB = []\n",
    "N1=10000\n",
    "while True:\n",
    "    new_PVBb = np.sqrt((1/(N1))*(2*epsilon + np.log(6/delta) + dvc*np.log(2*N1)))\n",
    "    get_epsPVB.append(new_PVBb)\n",
    "    if round(epsilon,0) == round(new_PVBb,0):\n",
    "        break\n",
    "    epsilon = new_PVBb\n",
    "\n",
    "print(get_epsPVB)"
   ]
  },
  {
   "cell_type": "code",
   "execution_count": 4,
   "metadata": {},
   "outputs": [
    {
     "name": "stdout",
     "output_type": "stream",
     "text": [
      "[0.2160342639296244, 0.21522858593838984]\n"
     ]
    }
   ],
   "source": [
    "# Tim epsilon cho Devroye bound\n",
    "epsilon = 1 \n",
    "get_epsD = []\n",
    "N1=10000\n",
    "while True:\n",
    "    new_Db = np.sqrt((1/(2*N1))*(4*epsilon*(1+epsilon) + np.log(4/delta) + 2*dvc*np.log(N1)))\n",
    "    get_epsD.append(new_Db)\n",
    "    if round(epsilon,0) == round(new_Db,0):\n",
    "        break\n",
    "    epsilon = new_Db\n",
    "\n",
    "print(get_epsD)"
   ]
  },
  {
   "cell_type": "code",
   "execution_count": 5,
   "metadata": {},
   "outputs": [
    {
     "name": "stdout",
     "output_type": "stream",
     "text": [
      "VC bound at N=10000 is  0.632174915200836\n",
      "Rademacher penalty bound at N=10000 is  0.3313087859616395\n",
      "Parrondo and Van den Broek bound at N=10000 is  0.22369829375008124\n",
      "Devroye bound at N=10000 is  0.2152280501645715\n"
     ]
    },
    {
     "name": "stderr",
     "output_type": "stream",
     "text": [
      "C:\\Users\\Admin\\Anaconda3\\lib\\site-packages\\IPython\\core\\pylabtools.py:132: UserWarning: Creating legend with loc=\"best\" can be slow with large amounts of data.\n",
      "  fig.canvas.print_figure(bytes_io, **kw)\n"
     ]
    },
    {
     "data": {
      "image/png": "[encoded data removed]",
      "text/plain": [
       "<Figure size 432x288 with 1 Axes>"
      ]
     },
     "metadata": {
      "needs_background": "light"
     },
     "output_type": "display_data"
    }
   ],
   "source": [
    "N = np.arange(1,11000,0.1)\n",
    "N1 = 10000\n",
    "\n",
    "# Original VC bound\n",
    "VCb = np.sqrt((8/N)*(np.log(4/delta) + dvc*np.log(2*N)))\n",
    "VCb1 = np.sqrt((8/N1)*(np.log(4/delta) + dvc*np.log(2*N1))) \n",
    "print('VC bound at N=10000 is ', VCb1)\n",
    "plt.plot(N, VCb, c='blue', label = 'Original VC')\n",
    "         \n",
    "# Rademacher penalty bound\n",
    "RMb = np.sqrt((2/N)*(np.log(2*N)+dvc*np.log(N))) + np.sqrt((2/N)*np.log(1/delta)) + 1/N\n",
    "RMb1 = np.sqrt((2/N1)*(np.log(2*N1)+dvc*np.log(N1))) + np.sqrt((2/N1)*np.log(1/delta)) + 1/N1\n",
    "print('Rademacher penalty bound at N=10000 is ', RMb1)\n",
    "plt.plot(N, RMb, c='red', label = 'Rademacher')\n",
    "    \n",
    "# Parrondo and Van den Broek\n",
    "epsilonPVB = get_epsPVB[len(get_epsPVB)-1]\n",
    "PVBb = np.sqrt((1/(N))*(2*epsilonPVB + np.log(6/delta) + dvc*np.log(2*N)))\n",
    "PVBb1 = np.sqrt((1/(N1))*(2*epsilonPVB + np.log(6/delta) + dvc*np.log(2*N1)))\n",
    "print('Parrondo and Van den Broek bound at N=10000 is ', PVBb1)\n",
    "plt.plot(N, PVBb, c='green', label = 'Parrondo/Van den Broek')\n",
    "         \n",
    "# Devroye bound\n",
    "epsilonD = get_epsD[len(get_epsD)-1]\n",
    "Db = np.sqrt((1/(2*N))*(4*epsilonD*(1+epsilonD) + np.log(4/delta) + 2*dvc*np.log(N)))\n",
    "Db1 = np.sqrt((1/(2*N1))*(4*epsilonD*(1+epsilonD) + np.log(4/delta) + 2*dvc*np.log(N1)))\n",
    "print('Devroye bound at N=10000 is ', Db1)\n",
    "plt.plot(N, Db, c='orange', label = 'Devroye')\n",
    "         \n",
    "plt.legend()\n",
    "plt.xlabel('N (samples)')\n",
    "plt.ylabel('generalization error (bound)') \n",
    "plt.ylim(0,1)\n",
    "plt.show()"
   ]
  },
  {
   "cell_type": "markdown",
   "metadata": {
    "deletable": false,
    "nbgrader": {
     "cell_type": "markdown",
     "checksum": "47d4e2bb3e4812ef7b37e032a898cfec",
     "grade": true,
     "grade_id": "c2",
     "locked": false,
     "points": 1,
     "schema_version": 3,
     "solution": true,
     "task": false
    }
   },
   "source": [
    "Do đó, em chọn đáp án [**d**] Devroye:\n",
    "$\\epsilon \\leq \\sqrt{\\frac{1}{2N}(4\\epsilon(1+\\epsilon) + ln \\frac{4 m_\\mathcal{H}(N^2)}{\\delta})}$"
   ]
  },
  {
   "cell_type": "markdown",
   "metadata": {},
   "source": [
    "## Câu 3 (1 điểm)"
   ]
  },
  {
   "cell_type": "code",
   "execution_count": 6,
   "metadata": {},
   "outputs": [
    {
     "name": "stdout",
     "output_type": "stream",
     "text": [
      "[4.937949906438589, 5.09495134825371]\n"
     ]
    }
   ],
   "source": [
    "# Tim epsilon cho Parrondo and Van den Broek bound\n",
    "epsilon = 1 \n",
    "get_epsPVB1 = []\n",
    "N1=5\n",
    "while True:\n",
    "    new_PVBb1 = np.sqrt((1/(N1))*(2*epsilon + np.log(6/delta) + dvc*np.log(2*N1)))\n",
    "    get_epsPVB1.append(new_PVBb1)\n",
    "    if round(epsilon,0) == round(new_PVBb1,0):\n",
    "        break\n",
    "    epsilon = new_PVBb1\n",
    "\n",
    "print(get_epsPVB1)"
   ]
  },
  {
   "cell_type": "code",
   "execution_count": 7,
   "metadata": {},
   "outputs": [
    {
     "name": "stdout",
     "output_type": "stream",
     "text": [
      "[4.16324174025583, 5.013074026885508, 5.346978200645316]\n"
     ]
    }
   ],
   "source": [
    "# Tìm epsilon cho Devroye bound\n",
    "epsilon = 1 \n",
    "get_epsD1 = []\n",
    "N1=5\n",
    "while True:\n",
    "    new_Db1 = np.sqrt((1/(2*N1))*(4*epsilon*(1+epsilon) + np.log(4/delta) + 2*dvc*np.log(N1)))\n",
    "    get_epsD1.append(new_Db1)\n",
    "    if round(epsilon,0) == round(new_Db1,0):\n",
    "        break\n",
    "    epsilon = new_Db1\n",
    "\n",
    "print(get_epsD1)"
   ]
  },
  {
   "cell_type": "code",
   "execution_count": 8,
   "metadata": {},
   "outputs": [
    {
     "name": "stdout",
     "output_type": "stream",
     "text": [
      "VC bound at N=5 is  13.828161484991483\n",
      "Rademacher penalty bound at N=5 is  7.048776564183685\n",
      "Parrondo and Van den Broek bound at N=5 is  5.101110645516166\n",
      "Devroye bound at N=5 is  5.487025006261317\n"
     ]
    }
   ],
   "source": [
    "delta = 0.05\n",
    "dvc = 50\n",
    "N = np.arange(1,11000,0.1)\n",
    "N1 = 5\n",
    "\n",
    "# Original VC bound\n",
    "VCb = np.sqrt((8/N)*(np.log(4/delta) + dvc*np.log(2*N)))\n",
    "VCb1 = np.sqrt((8/N1)*(np.log(4/delta) + dvc*np.log(2*N1))) \n",
    "print('VC bound at N=5 is ', VCb1)\n",
    "         \n",
    "# Rademacher penalty bound\n",
    "RMb = np.sqrt((2/N)*(np.log(2*N)+dvc*np.log(N))) + np.sqrt((2/N)*np.log(1/delta)) + 1/N\n",
    "RMb1 = np.sqrt((2/N1)*(np.log(2*N1)+dvc*np.log(N1))) + np.sqrt((2/N1)*np.log(1/delta)) + 1/N1\n",
    "print('Rademacher penalty bound at N=5 is ', RMb1)\n",
    "    \n",
    "# Parrondo and Van den Broek\n",
    "epsilonPVB = get_epsPVB1[len(get_epsPVB1)-1]\n",
    "PVBb = np.sqrt((1/(N))*(2*epsilonPVB + np.log(6/delta) + dvc*np.log(2*N)))\n",
    "PVBb1 = np.sqrt((1/(N1))*(2*epsilonPVB + np.log(6/delta) + dvc*np.log(2*N1)))\n",
    "print('Parrondo and Van den Broek bound at N=5 is ', PVBb1)\n",
    "         \n",
    "# Devroye bound\n",
    "epsilonD = get_epsD1[len(get_epsD1)-1]\n",
    "Db = np.sqrt((1/(2*N))*(4*epsilonD*(1+epsilonD) + np.log(4/delta) + 2*dvc*np.log(N)))\n",
    "Db1 = np.sqrt((1/(2*N1))*(4*epsilonD*(1+epsilonD) + np.log(4/delta) + 2*dvc*np.log(N1)))\n",
    "print('Devroye bound at N=5 is ', Db1)"
   ]
  },
  {
   "cell_type": "markdown",
   "metadata": {
    "deletable": false,
    "nbgrader": {
     "cell_type": "markdown",
     "checksum": "0997a909d9ab1f250c2bfd0645fee970",
     "grade": true,
     "grade_id": "c3",
     "locked": false,
     "points": 1,
     "schema_version": 3,
     "solution": true,
     "task": false
    }
   },
   "source": [
    "Do đó, em chọn đáp án [**c**] Parrondo and Van den Broek:  $\\epsilon \\leq \\sqrt{\\frac{1}{N}(2\\epsilon + ln \\frac{6 m_\\mathcal{H}(2N)}{\\delta})}$"
   ]
  },
  {
   "cell_type": "markdown",
   "metadata": {},
   "source": [
    "## Câu 4 (1 điểm)"
   ]
  },
  {
   "cell_type": "code",
   "execution_count": 9,
   "metadata": {},
   "outputs": [],
   "source": [
    "import numpy as np\n",
    "\n",
    "def generate_dataset(N):\n",
    "    X = np.random.uniform(-1, 1, (N, 1))\n",
    "    Y = np.sin(np.pi * X)\n",
    "    return X, Y"
   ]
  },
  {
   "cell_type": "code",
   "execution_count": 10,
   "metadata": {},
   "outputs": [
    {
     "name": "stdout",
     "output_type": "stream",
     "text": [
      "[[-0.210427  ]\n",
      " [ 0.91667494]]\n",
      "[[-0.61396646]\n",
      " [ 0.25879394]]\n"
     ]
    }
   ],
   "source": [
    "X, Y = generate_dataset(2)\n",
    "print(X)\n",
    "print(Y)"
   ]
  },
  {
   "cell_type": "code",
   "execution_count": 11,
   "metadata": {},
   "outputs": [
    {
     "data": {
      "text/plain": [
       "[<matplotlib.lines.Line2D at 0x17d222b4550>]"
      ]
     },
     "execution_count": 11,
     "metadata": {},
     "output_type": "execute_result"
    },
    {
     "data": {
      "image/png": "[encoded data removed]",
      "text/plain": [
       "<Figure size 576x396 with 1 Axes>"
      ]
     },
     "metadata": {},
     "output_type": "display_data"
    }
   ],
   "source": [
    "# Trực quan hóa hàm f và 2 điểm dữ liệu được phát sinh ở trên\n",
    "%matplotlib inline\n",
    "import matplotlib.pyplot as plt\n",
    "plt.style.use(\"seaborn\")\n",
    "\n",
    "xx = np.arange(-1, 1, 0.01).reshape(-1, 1)\n",
    "yy = np.sin(np.pi * xx)\n",
    "plt.plot(xx, yy, color=\"black\")\n",
    "plt.plot(X, Y, \"o\", color=\"blue\")"
   ]
  },
  {
   "cell_type": "code",
   "execution_count": 12,
   "metadata": {},
   "outputs": [
    {
     "name": "stdout",
     "output_type": "stream",
     "text": [
      "1.44\n"
     ]
    }
   ],
   "source": [
    "no_trials = 1000\n",
    "N = 2\n",
    "\n",
    "h2_a = []\n",
    "for i in range(no_trials):\n",
    "    X, Y = generate_dataset(N)\n",
    "    a = np.dot(np.dot(np.linalg.inv(np.dot(X.T,X)),X.T),Y)\n",
    "    h2_a.append(a)\n",
    "h2_a = np.array(h2_a)\n",
    "print(round(np.mean(h2_a),2))"
   ]
  },
  {
   "cell_type": "markdown",
   "metadata": {
    "deletable": false,
    "nbgrader": {
     "cell_type": "markdown",
     "checksum": "efabab5c4035a6864ac8cb3e0061c6f0",
     "grade": true,
     "grade_id": "c4",
     "locked": false,
     "points": 1,
     "schema_version": 3,
     "solution": true,
     "task": false
    }
   },
   "source": [
    "Do đó, em chọn đáp án [**e**] None of the above"
   ]
  },
  {
   "cell_type": "markdown",
   "metadata": {},
   "source": [
    "## Câu 5 (1 điểm)"
   ]
  },
  {
   "cell_type": "code",
   "execution_count": 13,
   "metadata": {},
   "outputs": [
    {
     "name": "stdout",
     "output_type": "stream",
     "text": [
      "Bias:  0.28\n"
     ]
    }
   ],
   "source": [
    "h2_bias = np.mean((yy-np.mean(h2_a)*xx)**2)\n",
    "print('Bias: ', round(h2_bias,2))"
   ]
  },
  {
   "cell_type": "markdown",
   "metadata": {
    "deletable": false,
    "nbgrader": {
     "cell_type": "markdown",
     "checksum": "0b484b8390bec96142e8a1213ee8cd2c",
     "grade": true,
     "grade_id": "c5",
     "locked": false,
     "points": 1,
     "schema_version": 3,
     "solution": true,
     "task": false
    }
   },
   "source": [
    "Do đó, em chọn đáp án [**b**] 0.3"
   ]
  },
  {
   "cell_type": "markdown",
   "metadata": {},
   "source": [
    "## Câu 6 (1 điểm)"
   ]
  },
  {
   "cell_type": "markdown",
   "metadata": {},
   "source": [
    "Ta có: $$var =  \\mathbb{E}_\\mathbf{x}\\left[\\mathbb{E}_\\mathcal{D}\\left[(g^{(\\mathcal{D})}(\\mathbf{x}) - \\bar{g}(\\mathbf{x}))^2\\right]\\right]$$\n",
    "$$=  \\mathbb{E}_\\mathbf{x}\\left[\\mathbb{E}_\\mathcal{D}\\left[(ax - \\bar{a}x)^2\\right]\\right]$$"
   ]
  },
  {
   "cell_type": "code",
   "execution_count": 14,
   "metadata": {},
   "outputs": [
    {
     "name": "stdout",
     "output_type": "stream",
     "text": [
      "Variance:  0.23\n"
     ]
    }
   ],
   "source": [
    "h2_var = np.mean(((h2_a-np.mean(h2_a))*xx)**2)\n",
    "print('Variance: ', round(h2_var,2))"
   ]
  },
  {
   "cell_type": "markdown",
   "metadata": {
    "deletable": false,
    "nbgrader": {
     "cell_type": "markdown",
     "checksum": "26f542221236fb24d0ddbee584eed7d0",
     "grade": true,
     "grade_id": "c6",
     "locked": false,
     "points": 1,
     "schema_version": 3,
     "solution": true,
     "task": false
    }
   },
   "source": [
    "Do đó, em chọn đáp án [**a**] 0.2"
   ]
  },
  {
   "cell_type": "markdown",
   "metadata": {},
   "source": [
    "## Câu 7 (1 điểm)"
   ]
  },
  {
   "cell_type": "markdown",
   "metadata": {},
   "source": [
    "**[a] Hypothesis of the form** $h(x)=b$"
   ]
  },
  {
   "cell_type": "code",
   "execution_count": 15,
   "metadata": {
    "scrolled": true
   },
   "outputs": [
    {
     "name": "stdout",
     "output_type": "stream",
     "text": [
      "Bias:  0.5\n",
      "Variance:  0.25\n"
     ]
    }
   ],
   "source": [
    "no_trials = 1000\n",
    "h1_a = []\n",
    "N = 2 \n",
    "for i in range(no_trials):\n",
    "        X, Y = generate_dataset(N)       \n",
    "        xx = np.arange(-1, 1, 0.01).reshape(-1, 1)\n",
    "        yy = np.sin(np.pi * xx)\n",
    "        # linear regression for model y = b*1\n",
    "        x = np.array([np.ones(N)]).T\n",
    "        h1 = np.dot(np.dot(np.linalg.inv(np.dot(x.T, x)), x.T), Y)\n",
    "        h1_a.append(h1)      \n",
    "# Bias\n",
    "h1_bias = np.mean((np.mean(h1_a)-yy)**2)\n",
    "print('Bias: ', round(h1_bias,2))\n",
    "# Variance\n",
    "h1_var = np.var(h1_a)\n",
    "print('Variance: ', round(h1_var,2))"
   ]
  },
  {
   "cell_type": "markdown",
   "metadata": {},
   "source": [
    "**[c] Hypothesis of the form** $h(x) = ax + b$"
   ]
  },
  {
   "cell_type": "code",
   "execution_count": 16,
   "metadata": {},
   "outputs": [
    {
     "name": "stdout",
     "output_type": "stream",
     "text": [
      "Bias:  0.2\n",
      "Variance:  1.74\n"
     ]
    }
   ],
   "source": [
    "no_trials = 1000\n",
    "N = 2\n",
    "h3_a = []\n",
    "\n",
    "for i in range(no_trials):\n",
    "    X = np.column_stack((np.ones(N),np.random.uniform(-1.,1., size=(N, 1))))\n",
    "    Y = np.sin(np.pi*X[:,1:])\n",
    "    h3 = np.dot(np.dot(np.linalg.inv(np.dot(X.T,X)),X.T),Y)\n",
    "    h3_a.append((h3))\n",
    "\n",
    "    xx = np.arange(-1, 1, 0.01)\n",
    "    yy = np.sin(np.pi * xx)\n",
    "    \n",
    "h3_a = np.array(h3_a)\n",
    "# Bias\n",
    "h3_bias = np.mean((yy-np.mean(h3_a[:,1])*xx-np.mean(h3_a[:,0]))**2)\n",
    "print('Bias: ', round(h3_bias,2))\n",
    "# Variance\n",
    "h3_var = np.mean(((h3_a[:,1]-np.mean(h3_a[:,1]))*xx + h3_a[:,0] - np.mean(h3_a[:,0]))**2)\n",
    "print('Variance: ', round(h3_var,2))"
   ]
  },
  {
   "cell_type": "markdown",
   "metadata": {},
   "source": [
    "**[d] Hypohesis of the form** $h(x) = ax^2$"
   ]
  },
  {
   "cell_type": "code",
   "execution_count": 17,
   "metadata": {},
   "outputs": [
    {
     "name": "stdout",
     "output_type": "stream",
     "text": [
      "Bias:  0.5\n",
      "Variance:  13.03\n"
     ]
    }
   ],
   "source": [
    "# y = ax^2\n",
    "no_trials = 1000\n",
    "N = 2\n",
    "h4_a = []\n",
    "\n",
    "for i in range(no_trials):\n",
    "    x = np.random.uniform(-1.,1., size=(N, 1))\n",
    "    X = x**2\n",
    "    Y = np.sin(np.pi*x)\n",
    "    h4 = np.dot(np.dot(np.linalg.inv(np.dot(X.T,X)),X.T),Y)\n",
    "    h4_a.append((h4))\n",
    "\n",
    "    xx = np.arange(-1, 1, 0.01)\n",
    "    yy = np.sin(np.pi * xx)\n",
    "\n",
    "h4_a = np.array(h4_a)\n",
    "# Bias\n",
    "h4_bias = np.mean((yy-np.mean(h4_a)*(xx**2))**2)\n",
    "print('Bias: ', round(h4_bias,2))\n",
    "# Variance\n",
    "h4_var = np.mean(((h4_a-np.mean(h4_a))*(xx**2))**2)\n",
    "print('Variance: ', round(h4_var,2))"
   ]
  },
  {
   "cell_type": "markdown",
   "metadata": {},
   "source": [
    "**[e] Hypothesis of the form** $h(x) = ax^2 + b$"
   ]
  },
  {
   "cell_type": "code",
   "execution_count": 18,
   "metadata": {},
   "outputs": [
    {
     "name": "stdout",
     "output_type": "stream",
     "text": [
      "Bias:  0.83\n",
      "Variance:  1118.63\n"
     ]
    }
   ],
   "source": [
    "# y = ax^2 + b\n",
    "no_trials = 1000\n",
    "N = 2 \n",
    "h5_a = []\n",
    "\n",
    "for i in range(no_trials):  \n",
    "        x = np.column_stack((np.ones(N),np.random.uniform(-1.,1., size=(N, 1))))\n",
    "        X = x**2\n",
    "        Y = np.sin(np.pi*x[:,1:])\n",
    "        # linear regression for model y = ax^2 + b\n",
    "        h5 = np.dot(np.dot(np.linalg.inv(np.dot(X.T, X)), X.T), Y) \n",
    "        h5_a.append((h5))\n",
    "        \n",
    "        xx = np.arange(-1, 1, 0.01)\n",
    "        yy = np.sin(np.pi * xx)\n",
    "        \n",
    "h5_a = np.array(h5_a)\n",
    "# Bias\n",
    "h5_bias = np.mean((yy-np.mean(h5_a[:,1])*(xx**2)-np.mean(h5_a[:,0]))**2)\n",
    "print('Bias: ', round(h5_bias,2))\n",
    "# Variance\n",
    "h5_var = np.mean(((h5_a[:,1]-np.mean(h5_a[:,1]))*(xx**2) + h5_a[:,0] - np.mean(h5_a[:,0]))**2)\n",
    "print('Variance: ', round(h5_var,2))"
   ]
  },
  {
   "cell_type": "code",
   "execution_count": 19,
   "metadata": {},
   "outputs": [
    {
     "name": "stdout",
     "output_type": "stream",
     "text": [
      "Expected value of out-of-sample error for h(x) = b:  0.75\n",
      "Expected value of out-of-sample error for h(x) = ax:  0.51\n",
      "Expected value of out-of-sample error for h(x) = ax+b:  1.94\n",
      "Expected value of out-of-sample error for h(x) = ax^2:  13.53\n",
      "Expected value of out-of-sample error for h(x) = ax^2+b:  1119.46\n"
     ]
    }
   ],
   "source": [
    "print('Expected value of out-of-sample error for h(x) = b: ', round(h1_bias+h1_var,2))\n",
    "print('Expected value of out-of-sample error for h(x) = ax: ', round(h2_bias+h2_var,2))\n",
    "print('Expected value of out-of-sample error for h(x) = ax+b: ', round(h3_bias+h3_var,2))\n",
    "print('Expected value of out-of-sample error for h(x) = ax^2: ', round(h4_bias+h4_var,2))\n",
    "print('Expected value of out-of-sample error for h(x) = ax^2+b: ', round(h5_bias+h5_var,2))"
   ]
  },
  {
   "cell_type": "markdown",
   "metadata": {},
   "source": [
    "The least expected value of out-of-sample error has the hypothesis $h(x)=ax$"
   ]
  },
  {
   "cell_type": "markdown",
   "metadata": {
    "deletable": false,
    "nbgrader": {
     "cell_type": "markdown",
     "checksum": "322a244b0fae3a20ec568a5099aaaec1",
     "grade": true,
     "grade_id": "c7",
     "locked": false,
     "points": 1,
     "schema_version": 3,
     "solution": true,
     "task": false
    }
   },
   "source": [
    "Do đó, em chọn đáp án [**b**] Hypotheses of the form h(x) = ax"
   ]
  },
  {
   "cell_type": "markdown",
   "metadata": {},
   "source": [
    "## Câu 8 (1 điểm)"
   ]
  },
  {
   "cell_type": "markdown",
   "metadata": {},
   "source": [
    "$m_\\mathcal{H}(N + 1) = 2m_\\mathcal{H}(N) - \\binom{N}{q}$ <br><br>\n",
    "**&bull;** $N = 1$ <br>\n",
    "$\\Leftrightarrow m_\\mathcal{H}(2) = 2m_\\mathcal{H}(1) - \\binom{1}{q} = \n",
    "\\begin{cases}\n",
    "    4 - 1 = 3 \\hspace{3pt}(q = 1) * \\\\\n",
    "    4 \\hspace{33pt} (q > 1)\n",
    "\\end{cases}$ <br><br>\n",
    "**&bull;** $N = 2$ <br>\n",
    "$\\Leftrightarrow m_\\mathcal{H}(3) = 2m_\\mathcal{H}(2) - \\binom{2}{q} = \n",
    "\\begin{cases}\n",
    "    2.3 - 2 = 4 \\hspace{3pt} (q = 1) \\\\\n",
    "    2.4 - 1 = 7 \\hspace{3pt} (q = 2) * \\\\\n",
    "    2.4 - 0 = 8 \\hspace{3pt} (q > 2)\n",
    "\\end{cases}$<br><br>\n",
    "**&bull;** $N = 3$ <br>\n",
    "$\\Leftrightarrow m_\\mathcal{H}(4) = 2m_\\mathcal{H}(3) - \\binom{3}{q} = \n",
    "\\begin{cases}\n",
    "    2.4 - 3 = 5 \\hspace{9pt} (q = 1) \\\\\n",
    "    2.7 - 3 = 11 \\hspace{5pt} (q = 2) \\\\\n",
    "    2.8 - 1 = 15 \\hspace{5pt} (q = 3) * \\\\\n",
    "    2.8 = 16 \\hspace{20pt} (q > 3)\n",
    "\\end{cases}$"
   ]
  },
  {
   "cell_type": "markdown",
   "metadata": {
    "deletable": false,
    "nbgrader": {
     "cell_type": "markdown",
     "checksum": "d81773f072cd15e4a27b6cd240a5d990",
     "grade": true,
     "grade_id": "c8",
     "locked": false,
     "points": 1,
     "schema_version": 3,
     "solution": true,
     "task": false
    }
   },
   "source": [
    "\\YOUR ANSWER HERE"
   ]
  },
  {
   "cell_type": "markdown",
   "metadata": {},
   "source": [
    "## Câu 9 (1 điểm)"
   ]
  },
  {
   "cell_type": "markdown",
   "metadata": {
    "deletable": false,
    "nbgrader": {
     "cell_type": "markdown",
     "checksum": "e814a2db0b8a53e4fddfee4bcbf405fc",
     "grade": true,
     "grade_id": "c9",
     "locked": false,
     "points": 1,
     "schema_version": 3,
     "solution": true,
     "task": false
    }
   },
   "source": [
    "YOUR ANSWER HERE"
   ]
  },
  {
   "cell_type": "markdown",
   "metadata": {},
   "source": [
    "## Câu 10 (1 điểm)"
   ]
  },
  {
   "cell_type": "markdown",
   "metadata": {
    "deletable": false,
    "nbgrader": {
     "cell_type": "markdown",
     "checksum": "41cbf5c6d2b94eeae0a712be2181fef6",
     "grade": true,
     "grade_id": "c10",
     "locked": false,
     "points": 1,
     "schema_version": 3,
     "solution": true,
     "task": false
    }
   },
   "source": [
    "YOUR ANSWER HERE"
   ]
  }
 ],
 "metadata": {
  "kernelspec": {
   "display_name": "Python 3",
   "language": "python",
   "name": "python3"
  },
  "language_info": {
   "codemirror_mode": {
    "name": "ipython",
    "version": 3
   },
   "file_extension": ".py",
   "mimetype": "text/x-python",
   "name": "python",
   "nbconvert_exporter": "python",
   "pygments_lexer": "ipython3",
   "version": "3.7.1"
  },
  "toc": {
   "base_numbering": 1,
   "nav_menu": {},
   "number_sections": true,
   "sideBar": true,
   "skip_h1_title": false,
   "title_cell": "Table of Contents",
   "title_sidebar": "Contents",
   "toc_cell": false,
   "toc_position": {},
   "toc_section_display": true,
   "toc_window_display": false
  },
  "varInspector": {
   "cols": {
    "lenName": 16,
    "lenType": 16,
    "lenVar": 40
   },
   "kernels_config": {
    "python": {
     "delete_cmd_postfix": "",
     "delete_cmd_prefix": "del ",
     "library": "var_list.py",
     "varRefreshCmd": "print(var_dic_list())"
    },
    "r": {
     "delete_cmd_postfix": ") ",
     "delete_cmd_prefix": "rm(",
     "library": "var_list.r",
     "varRefreshCmd": "cat(var_dic_list()) "
    }
   },
   "types_to_exclude": [
    "module",
    "function",
    "builtin_function_or_method",
    "instance",
    "_Feature"
   ],
   "window_display": false
  }
 },
 "nbformat": 4,
 "nbformat_minor": 4
}
