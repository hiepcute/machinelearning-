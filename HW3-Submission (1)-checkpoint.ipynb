{
 "cells": [
  {
   "cell_type": "markdown",
   "metadata": {},
   "source": [
    "# Bài tập 3\n",
    "\n",
    "Đỗ Văn Hiệp-1712429"
   ]
  },
  {
   "cell_type": "markdown",
   "metadata": {},
   "source": [
    "## Câu 1 (1 điểm)"
   ]
  },
  {
   "cell_type": "code",
   "execution_count": null,
   "metadata": {},
   "outputs": [],
   "source": [
    "import math\n",
    "def find_N(M):\n",
    "    return math.log((2*M)/0.03)/(2*(0.05**2))\n",
    "N=find_N(10)\n",
    "print(N)"
   ]
  },
  {
   "cell_type": "markdown",
   "metadata": {
    "deletable": false,
    "nbgrader": {
     "cell_type": "markdown",
     "checksum": "2e83d862b3c5fd4fb57d72c50e8115f8",
     "grade": true,
     "grade_id": "c1",
     "locked": false,
     "points": 1,
     "schema_version": 3,
     "solution": true,
     "task": false
    }
   },
   "source": [
    "ta sẽ tính theo cách tính tay hoặc là viết hàm tính bằng python cho tiện\n",
    "như file hướng dẫn ta cần giải phương trình 2*M*e^(-2*0.05^2*N)<=0.03\n",
    "do em không biết viết latex nên sẽ dùng code để biểu thị ,ở đây là chặn dưới ta có thể lấy luôn dấu bằng\n",
    "chọn B"
   ]
  },
  {
   "cell_type": "markdown",
   "metadata": {},
   "source": [
    "## Câu 2 (1 điểm)"
   ]
  },
  {
   "cell_type": "code",
   "execution_count": 2,
   "metadata": {},
   "outputs": [
    {
     "name": "stdout",
     "output_type": "stream",
     "text": [
      "1760.9750527736032\n"
     ]
    }
   ],
   "source": [
    "import math\n",
    "def find_N(M):\n",
    "    return math.log((2*M)/0.03)/(2*(0.05**2))\n",
    "N=find_N(100)\n",
    "print(N)\n"
   ]
  },
  {
   "cell_type": "markdown",
   "metadata": {
    "deletable": false,
    "nbgrader": {
     "cell_type": "markdown",
     "checksum": "47d4e2bb3e4812ef7b37e032a898cfec",
     "grade": true,
     "grade_id": "c2",
     "locked": false,
     "points": 1,
     "schema_version": 3,
     "solution": true,
     "task": false
    }
   },
   "source": [
    "chọn C"
   ]
  },
  {
   "cell_type": "markdown",
   "metadata": {},
   "source": [
    "## Câu 3 (1 điểm)"
   ]
  },
  {
   "cell_type": "code",
   "execution_count": 1,
   "metadata": {},
   "outputs": [
    {
     "name": "stdout",
     "output_type": "stream",
     "text": [
      "2221.4920713724127\n"
     ]
    }
   ],
   "source": [
    "import math\n",
    "def find_N(M):\n",
    "    return math.log((2*M)/0.03)/(2*(0.05**2))\n",
    "N=find_N(1000)\n",
    "print(N)\n"
   ]
  },
  {
   "cell_type": "markdown",
   "metadata": {
    "deletable": false,
    "nbgrader": {
     "cell_type": "markdown",
     "checksum": "0997a909d9ab1f250c2bfd0645fee970",
     "grade": true,
     "grade_id": "c3",
     "locked": false,
     "points": 1,
     "schema_version": 3,
     "solution": true,
     "task": false
    }
   },
   "source": [
    "chọn D"
   ]
  },
  {
   "cell_type": "markdown",
   "metadata": {},
   "source": [
    "## Câu 4 (1 điểm)"
   ]
  },
  {
   "cell_type": "markdown",
   "metadata": {
    "deletable": false,
    "nbgrader": {
     "cell_type": "markdown",
     "checksum": "efabab5c4035a6864ac8cb3e0061c6f0",
     "grade": true,
     "grade_id": "c4",
     "locked": false,
     "points": 1,
     "schema_version": 3,
     "solution": true,
     "task": false
    }
   },
   "source": [
    "theo bài giảng trên lớp hôm 26/7 thì D(vc)=d+1=4+1=5\n",
    "chọn B"
   ]
  },
  {
   "cell_type": "markdown",
   "metadata": {},
   "source": [
    "## Câu 5 (1 điểm)"
   ]
  },
  {
   "cell_type": "markdown",
   "metadata": {
    "deletable": false,
    "nbgrader": {
     "cell_type": "markdown",
     "checksum": "0b484b8390bec96142e8a1213ee8cd2c",
     "grade": true,
     "grade_id": "c5",
     "locked": false,
     "points": 1,
     "schema_version": 3,
     "solution": true,
     "task": false
    }
   },
   "source": [
    "với câu i :) là hoàn toàn có thể vì theo như trong slide với H là positive rays ( với k=2) thì\n",
    "M(h)=N+1\n",
    "với câu ii:) ta có Nc2 =1/2*n(n-1)=> câu ii được rút gọn sẽ là\n",
    "1/2*N^2+1/2*N+1 chính là positive intervals  với break point k=3\n",
    "với câu v : với trường hợp convex set , xếp theo vòng tròn thì hoàn toàn có thể là 2^n \n",
    "với câu iii và câu iv em nghĩ nó là polynomial nên số điểm break point k không thể là lấy phần nguyên nhỏ nhấttheo N được\n",
    "chọn A"
   ]
  },
  {
   "cell_type": "markdown",
   "metadata": {},
   "source": [
    "## Câu 6 (1 điểm)"
   ]
  },
  {
   "cell_type": "markdown",
   "metadata": {
    "deletable": false,
    "nbgrader": {
     "cell_type": "markdown",
     "checksum": "26f542221236fb24d0ddbee584eed7d0",
     "grade": true,
     "grade_id": "c6",
     "locked": false,
     "points": 1,
     "schema_version": 3,
     "solution": true,
     "task": false
    }
   },
   "source": [
    "câu 6 : với trường hợp 1 intervals thì trường hợp  thì trong trường hợp -+- không thể biểu diễn được vì |_-_|+-(với 2 dấu |_ _| là một intervals ta vẫn thừa một dấu trừ nên không thể biểu diễn được một interval , nên sẽ không thể biểu diễn được , với trường hợp 2 intervals  thì -+- có thể biểu diễn được  . với trường hợp n=4 ,  ta xét tất cả trường hợp\n",
    "+ + - + (-> cái này có thể biểu diễn bằng 1 interval được , \n",
    "+ - + - (-> đây là trường hợp phức tạp nhất với n=4 có thể biểu diễn được bằng 2 intervals, ( + |_-_|+|_-_|)\n",
    "ngoài ra các trường hợp còn lại thì có  thể biểu diễn được bằng 1 intervals hoặc 2 trường hợp intervals\n",
    "xét với n=5 :\n",
    "tính ra ta có 5! cách đặt các dấu , ta chỉ xét các trường hợp phức tạp nhât\n",
    "xét + + - + -  , -> có thể biểu diễn và cách sắp đặt như n=4\n",
    "xét +--++ , cái này có thể biểu diễn được bằng  1 interval  |_+_|-|_-_|++\n",
    "xét trường hợp xen kẽ nhau  +-+-+ ta không thể biểu diễn được bằng 2 intervals  (trường hợp này giống với trường hợp 1 intervals +-+)   vì |_+_|-|_+_|-+ vẫn còn thừa 1 dấu cộng ở dưới nên không thể biểu diễn được như vậy với k=5 breakpoints \n",
    "ta có thể tổng quát hóa bài toán với M-intervals , với 1-intervals thì ta cần 2*M+1 điểm để có thể bị break point\n",
    "ta đúng với trường hợp tổng quát , với 2-intervals thì số điểm breakpoints nhỏ nhất là 2*2+1=5\n",
    "ta chứng minh với n-interval thì cần 2*M+1 điểm , đúng vậy với cách đặt +-+-+-+-....thì đây là trường hợp phức tạp nhất \n",
    "vì M-interval có thể phân loại 2*M điểm , còn điểm cuối cùng không thể phân loại với M intervals (như trường hợp 3,5 breakpoints) ở trên kia \n",
    "vậy chọn C\n",
    "( cô nhấp vào file mới nhìn rõ được biểu diễn được ạ  chứ khi lưu xong nó thể hiện ra được một cái hình khác )\n",
    "\n"
   ]
  },
  {
   "cell_type": "markdown",
   "metadata": {},
   "source": [
    "## Câu 7 (1 điểm)"
   ]
  },
  {
   "cell_type": "markdown",
   "metadata": {
    "deletable": false,
    "nbgrader": {
     "cell_type": "markdown",
     "checksum": "322a244b0fae3a20ec568a5099aaaec1",
     "grade": true,
     "grade_id": "c7",
     "locked": false,
     "points": 1,
     "schema_version": 3,
     "solution": true,
     "task": false
    }
   },
   "source": [
    "YOUR ANSWER HERE"
   ]
  },
  {
   "cell_type": "markdown",
   "metadata": {},
   "source": [
    "## Câu 8 (1 điểm)"
   ]
  },
  {
   "cell_type": "markdown",
   "metadata": {
    "deletable": false,
    "nbgrader": {
     "cell_type": "markdown",
     "checksum": "d81773f072cd15e4a27b6cd240a5d990",
     "grade": true,
     "grade_id": "c8",
     "locked": false,
     "points": 1,
     "schema_version": 3,
     "solution": true,
     "task": false
    }
   },
   "source": [
    "chọn D dựa trên kết quả tổng quát của câu 6"
   ]
  },
  {
   "cell_type": "markdown",
   "metadata": {},
   "source": [
    "## Câu 9 (1 điểm)"
   ]
  },
  {
   "cell_type": "markdown",
   "metadata": {
    "deletable": false,
    "nbgrader": {
     "cell_type": "markdown",
     "checksum": "e814a2db0b8a53e4fddfee4bcbf405fc",
     "grade": true,
     "grade_id": "c9",
     "locked": false,
     "points": 1,
     "schema_version": 3,
     "solution": true,
     "task": false
    }
   },
   "source": [
    "YOUR ANSWER HERE"
   ]
  },
  {
   "cell_type": "markdown",
   "metadata": {},
   "source": [
    "## Câu 10 (1 điểm)"
   ]
  },
  {
   "cell_type": "markdown",
   "metadata": {
    "deletable": false,
    "nbgrader": {
     "cell_type": "markdown",
     "checksum": "41cbf5c6d2b94eeae0a712be2181fef6",
     "grade": true,
     "grade_id": "c10",
     "locked": false,
     "points": 1,
     "schema_version": 3,
     "solution": true,
     "task": false
    }
   },
   "source": [
    "YOUR ANSWER HERE"
   ]
  }
 ],
 "metadata": {
  "kernelspec": {
   "display_name": "Python 3",
   "language": "python",
   "name": "python3"
  },
  "language_info": {
   "codemirror_mode": {
    "name": "ipython",
    "version": 3
   },
   "file_extension": ".py",
   "mimetype": "text/x-python",
   "name": "python",
   "nbconvert_exporter": "python",
   "pygments_lexer": "ipython3",
   "version": "3.7.1"
  },
  "toc": {
   "base_numbering": 1,
   "nav_menu": {},
   "number_sections": true,
   "sideBar": true,
   "skip_h1_title": false,
   "title_cell": "Table of Contents",
   "title_sidebar": "Contents",
   "toc_cell": false,
   "toc_position": {},
   "toc_section_display": true,
   "toc_window_display": false
  },
  "varInspector": {
   "cols": {
    "lenName": 16,
    "lenType": 16,
    "lenVar": 40
   },
   "kernels_config": {
    "python": {
     "delete_cmd_postfix": "",
     "delete_cmd_prefix": "del ",
     "library": "var_list.py",
     "varRefreshCmd": "print(var_dic_list())"
    },
    "r": {
     "delete_cmd_postfix": ") ",
     "delete_cmd_prefix": "rm(",
     "library": "var_list.r",
     "varRefreshCmd": "cat(var_dic_list()) "
    }
   },
   "types_to_exclude": [
    "module",
    "function",
    "builtin_function_or_method",
    "instance",
    "_Feature"
   ],
   "window_display": false
  }
 },
 "nbformat": 4,
 "nbformat_minor": 4
}
