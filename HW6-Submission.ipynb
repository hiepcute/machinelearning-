{
 "cells": [
  {
   "cell_type": "markdown",
   "metadata": {},
   "source": [
    "# Bài tập 6\n",
    "\n",
    "Đỗ Văn Hiệp -1712429"
   ]
  },
  {
   "cell_type": "markdown",
   "metadata": {},
   "source": [
    "## Câu 1 (1 điểm)"
   ]
  },
  {
   "cell_type": "markdown",
   "metadata": {
    "deletable": false,
    "nbgrader": {
     "cell_type": "markdown",
     "checksum": "2e83d862b3c5fd4fb57d72c50e8115f8",
     "grade": true,
     "grade_id": "c1",
     "locked": false,
     "points": 1,
     "schema_version": 3,
     "solution": true,
     "task": false
    }
   },
   "source": [
    "theo em nghĩ là tăng , vì tập H' là con của tập H mà nhiều lúc tập H' không có cái giả thuyết nào để fix vào cái đa thức của đề bài , ví dụ trong slide lecture 11 trang 6 , đa thức bậc 10 tốt hơn đa thức bậc 2 , đi qua các điểm hơn đa thức bậc 2, ví dụ ta lấy một đa thức bậc 1 là một đường thẳng là 1 subset của tập H thì đa thức này không thể làm tốt hơn da thức H10 điều đó \n",
    "deterministic noise tăng \n",
    "vậy chọn đáp án B"
   ]
  },
  {
   "cell_type": "markdown",
   "metadata": {},
   "source": [
    "## Câu 2 (1 điểm)"
   ]
  },
  {
   "cell_type": "code",
   "execution_count": 1,
   "metadata": {},
   "outputs": [
    {
     "name": "stdout",
     "output_type": "stream",
     "text": [
      "E_in= 0.02857142857142857\n",
      "E_out 0.084\n"
     ]
    }
   ],
   "source": [
    "import numpy as np\n",
    "train_data = np.loadtxt(\"in.dta\")\n",
    "test_data=np.loadtxt(\"out.dta\")\n",
    "train_X=train_data[:,:2]\n",
    "train_Y=train_data[:,2]\n",
    "#transform\n",
    "test_X=test_data[:,:2]\n",
    "test_Y=test_data[:,2]\n",
    "def transform(X):\n",
    "    X_new=np.zeros((X.shape[0],8))\n",
    "    X_new[:,0]=1\n",
    "    X_new[:,1]=X[:,0]\n",
    "    X_new[:,2]=X[:,1]\n",
    "    X_new[:,3]=X[:,0]**2\n",
    "    X_new[:,4]=X[:,1]**2\n",
    "    X_new[:,5] = X[:,0] * X[:,1]\n",
    "    X_new[:,6]=np.abs(X[:,0] - X[:,1])\n",
    "    X_new[:,7]=np.abs(X[:,0] + X[:,1])\n",
    "    return X_new\n",
    "\n",
    "def run_linear_Regression(X,y):\n",
    "    X_new=transform(X)\n",
    "    #w=(Z^T*Z)^-1*Z^Ty\n",
    "    b=np.dot(X_new.T,y)\n",
    "    a=np.dot(X_new.T,X_new)\n",
    "    w=np.dot(np.linalg.inv(a),b)\n",
    "    predict = np.dot(X_new, w)# tính ouput dự đoán\n",
    "    predict=np.sign(predict)# lấy dấu của output dụ đoán\n",
    "    return predict,w\n",
    "predict_train,w=run_linear_Regression(train_X,train_Y)\n",
    "print(\"E_in=\",np.mean(train_Y!=predict_train))\n",
    "test_X_new=transform(test_X)\n",
    "predict_test=np.dot(test_X_new,w)\n",
    "predict_test=np.sign(predict_test)\n",
    "print(\"E_out\",np.mean(test_Y!=predict_test))\n",
    "\n",
    "# lưu ý : hàm transform có tham khảo ở bài tập tuần 2 và https://github.com/roessland/learning-from-data/blob/master/homework-6/LFD-HW-06.ipynb"
   ]
  },
  {
   "cell_type": "markdown",
   "metadata": {
    "deletable": false,
    "nbgrader": {
     "cell_type": "markdown",
     "checksum": "47d4e2bb3e4812ef7b37e032a898cfec",
     "grade": true,
     "grade_id": "c2",
     "locked": false,
     "points": 1,
     "schema_version": 3,
     "solution": true,
     "task": false
    }
   },
   "source": [
    "chọn đáp án A"
   ]
  },
  {
   "cell_type": "markdown",
   "metadata": {},
   "source": [
    "## Câu 3 (1 điểm)"
   ]
  },
  {
   "cell_type": "code",
   "execution_count": 2,
   "metadata": {},
   "outputs": [
    {
     "name": "stdout",
     "output_type": "stream",
     "text": [
      "E_in= 0.02857142857142857\n",
      "E_out 0.08\n"
     ]
    }
   ],
   "source": [
    "import numpy as np\n",
    "train_data = np.loadtxt(\"in.dta\")\n",
    "test_data=np.loadtxt(\"out.dta\")\n",
    "train_X=train_data[:,:2]\n",
    "train_Y=train_data[:,2]\n",
    "#transform\n",
    "test_X=test_data[:,:2]\n",
    "test_Y=test_data[:,2]\n",
    "def transform(X):\n",
    "    X_new=np.zeros((X.shape[0],8))\n",
    "    X_new[:,0]=1\n",
    "    X_new[:,1]=X[:,0]\n",
    "    X_new[:,2]=X[:,1]\n",
    "    X_new[:,3]=X[:,0]**2\n",
    "    X_new[:,4]=X[:,1]**2\n",
    "    X_new[:,5] = X[:,0] * X[:,1]\n",
    "    X_new[:,6]=np.abs(X[:,0] - X[:,1])\n",
    "    X_new[:,7]=np.abs(X[:,0] + X[:,1])\n",
    "    return X_new\n",
    "\n",
    "def run_linear_Regression(X,y,k):\n",
    "    I=np.eye(8)\n",
    "    X_new=transform(X)\n",
    "    #w=(Z^T*Z)^-1*Z^Ty\n",
    "    b=np.dot(X_new.T,y)\n",
    "    a=np.dot(X_new.T,X_new)+k*I\n",
    "    w=np.dot(np.linalg.inv(a),b)\n",
    "    predict = np.dot(X_new, w)# tính ouput dự đoán\n",
    "    predict=np.sign(predict)# lấy dấu của output dụ đoán\n",
    "    return predict,w\n",
    "predict_train,w=run_linear_Regression(train_X,train_Y,10**-3)\n",
    "print(\"E_in=\",np.mean(train_Y!=predict_train))\n",
    "test_X_new=transform(test_X)\n",
    "predict_test=np.dot(test_X_new,w)\n",
    "predict_test=np.sign(predict_test)\n",
    "print(\"E_out\",np.mean(test_Y!=predict_test))\n"
   ]
  },
  {
   "cell_type": "markdown",
   "metadata": {
    "deletable": false,
    "nbgrader": {
     "cell_type": "markdown",
     "checksum": "0997a909d9ab1f250c2bfd0645fee970",
     "grade": true,
     "grade_id": "c3",
     "locked": false,
     "points": 1,
     "schema_version": 3,
     "solution": true,
     "task": false
    }
   },
   "source": [
    "chọn đáp án D"
   ]
  },
  {
   "cell_type": "markdown",
   "metadata": {},
   "source": [
    "## Câu 4 (1 điểm)"
   ]
  },
  {
   "cell_type": "code",
   "execution_count": 3,
   "metadata": {},
   "outputs": [
    {
     "name": "stdout",
     "output_type": "stream",
     "text": [
      "E_in= 0.37142857142857144\n",
      "E_out 0.436\n"
     ]
    }
   ],
   "source": [
    "import numpy as np\n",
    "train_data = np.loadtxt(\"in.dta\")\n",
    "test_data=np.loadtxt(\"out.dta\")\n",
    "train_X=train_data[:,:2]\n",
    "train_Y=train_data[:,2]\n",
    "#transform\n",
    "test_X=test_data[:,:2]\n",
    "test_Y=test_data[:,2]\n",
    "def transform(X):\n",
    "    X_new=np.zeros((X.shape[0],8))\n",
    "    X_new[:,0]=1\n",
    "    X_new[:,1]=X[:,0]\n",
    "    X_new[:,2]=X[:,1]\n",
    "    X_new[:,3]=X[:,0]**2\n",
    "    X_new[:,4]=X[:,1]**2\n",
    "    X_new[:,5] = X[:,0] * X[:,1]\n",
    "    X_new[:,6]=np.abs(X[:,0] - X[:,1])\n",
    "    X_new[:,7]=np.abs(X[:,0] + X[:,1])\n",
    "    return X_new\n",
    "\n",
    "def run_linear_Regression(X,y,k):\n",
    "    I=np.eye(8)\n",
    "    X_new=transform(X)\n",
    "    #w=(Z^T*Z)^-1*Z^Ty\n",
    "    b=np.dot(X_new.T,y)\n",
    "    a=np.dot(X_new.T,X_new)+k*I\n",
    "    w=np.dot(np.linalg.inv(a),b)\n",
    "    predict = np.dot(X_new, w)# tính ouput dự đoán\n",
    "    predict=np.sign(predict)# lấy dấu của output dụ đoán\n",
    "    return predict,w\n",
    "predict_train,w=run_linear_Regression(train_X,train_Y,10**3)\n",
    "print(\"E_in=\",np.mean(train_Y!=predict_train))\n",
    "test_X_new=transform(test_X)\n",
    "predict_test=np.dot(test_X_new,w)\n",
    "predict_test=np.sign(predict_test)\n",
    "print(\"E_out\",np.mean(test_Y!=predict_test))\n"
   ]
  },
  {
   "cell_type": "markdown",
   "metadata": {
    "deletable": false,
    "nbgrader": {
     "cell_type": "markdown",
     "checksum": "efabab5c4035a6864ac8cb3e0061c6f0",
     "grade": true,
     "grade_id": "c4",
     "locked": false,
     "points": 1,
     "schema_version": 3,
     "solution": true,
     "task": false
    }
   },
   "source": [
    "chọn đáp án E"
   ]
  },
  {
   "cell_type": "markdown",
   "metadata": {},
   "source": [
    "## Câu 5 (1 điểm)"
   ]
  },
  {
   "cell_type": "code",
   "execution_count": 4,
   "metadata": {},
   "outputs": [
    {
     "name": "stdout",
     "output_type": "stream",
     "text": [
      "E_in k=-2= 0.02857142857142857\n",
      "E_outk=-2 0.084\n"
     ]
    }
   ],
   "source": [
    "#voi k=-2\n",
    "import numpy as np\n",
    "train_data = np.loadtxt(\"in.dta\")\n",
    "test_data=np.loadtxt(\"out.dta\")\n",
    "train_X=train_data[:,:2]\n",
    "train_Y=train_data[:,2]\n",
    "#transform\n",
    "test_X=test_data[:,:2]\n",
    "test_Y=test_data[:,2]\n",
    "def transform(X):\n",
    "    X_new=np.zeros((X.shape[0],8))\n",
    "    X_new[:,0]=1\n",
    "    X_new[:,1]=X[:,0]\n",
    "    X_new[:,2]=X[:,1]\n",
    "    X_new[:,3]=X[:,0]**2\n",
    "    X_new[:,4]=X[:,1]**2\n",
    "    X_new[:,5] = X[:,0] * X[:,1]\n",
    "    X_new[:,6]=np.abs(X[:,0] - X[:,1])\n",
    "    X_new[:,7]=np.abs(X[:,0] + X[:,1])\n",
    "    return X_new\n",
    "\n",
    "def run_linear_Regression(X,y,k):\n",
    "    I=np.eye(8)\n",
    "    X_new=transform(X)\n",
    "    #w=(Z^T*Z)^-1*Z^Ty\n",
    "    b=np.dot(X_new.T,y)\n",
    "    a=np.dot(X_new.T,X_new)+k*I\n",
    "    w=np.dot(np.linalg.inv(a),b)\n",
    "    predict = np.dot(X_new, w)# tính ouput dự đoán\n",
    "    predict=np.sign(predict)# lấy dấu của output dụ đoán\n",
    "    return predict,w\n",
    "predict_train,w=run_linear_Regression(train_X,train_Y,10**-2)\n",
    "print(\"E_in k=-2=\",np.mean(train_Y!=predict_train))\n",
    "test_X_new=transform(test_X)\n",
    "predict_test=np.dot(test_X_new,w)\n",
    "predict_test=np.sign(predict_test)\n",
    "print(\"E_outk=-2\",np.mean(test_Y!=predict_test))\n"
   ]
  },
  {
   "cell_type": "code",
   "execution_count": 5,
   "metadata": {},
   "outputs": [
    {
     "name": "stdout",
     "output_type": "stream",
     "text": [
      "E_in k=-1= 0.02857142857142857\n",
      "E_outk=-1 0.056\n"
     ]
    }
   ],
   "source": [
    "#voi k=-1\n",
    "import numpy as np\n",
    "train_data = np.loadtxt(\"in.dta\")\n",
    "test_data=np.loadtxt(\"out.dta\")\n",
    "train_X=train_data[:,:2]\n",
    "train_Y=train_data[:,2]\n",
    "#transform\n",
    "test_X=test_data[:,:2]\n",
    "test_Y=test_data[:,2]\n",
    "def transform(X):\n",
    "    X_new=np.zeros((X.shape[0],8))\n",
    "    X_new[:,0]=1\n",
    "    X_new[:,1]=X[:,0]\n",
    "    X_new[:,2]=X[:,1]\n",
    "    X_new[:,3]=X[:,0]**2\n",
    "    X_new[:,4]=X[:,1]**2\n",
    "    X_new[:,5] = X[:,0] * X[:,1]\n",
    "    X_new[:,6]=np.abs(X[:,0] - X[:,1])\n",
    "    X_new[:,7]=np.abs(X[:,0] + X[:,1])\n",
    "    return X_new\n",
    "\n",
    "def run_linear_Regression(X,y,k):\n",
    "    I=np.eye(8)\n",
    "    X_new=transform(X)\n",
    "    #w=(Z^T*Z)^-1*Z^Ty\n",
    "    b=np.dot(X_new.T,y)\n",
    "    a=np.dot(X_new.T,X_new)+k*I\n",
    "    w=np.dot(np.linalg.inv(a),b)\n",
    "    predict = np.dot(X_new, w)# tính ouput dự đoán\n",
    "    predict=np.sign(predict)# lấy dấu của output dụ đoán\n",
    "    return predict,w\n",
    "predict_train,w=run_linear_Regression(train_X,train_Y,10**-1)\n",
    "print(\"E_in k=-1=\",np.mean(train_Y!=predict_train))\n",
    "test_X_new=transform(test_X)\n",
    "predict_test=np.dot(test_X_new,w)\n",
    "predict_test=np.sign(predict_test)\n",
    "print(\"E_outk=-1\",np.mean(test_Y!=predict_test))\n"
   ]
  },
  {
   "cell_type": "code",
   "execution_count": 6,
   "metadata": {},
   "outputs": [
    {
     "name": "stdout",
     "output_type": "stream",
     "text": [
      "E_in k=0= 0.0\n",
      "E_outk=0 0.092\n"
     ]
    }
   ],
   "source": [
    "#voi k=0\n",
    "import numpy as np\n",
    "train_data = np.loadtxt(\"in.dta\")\n",
    "test_data=np.loadtxt(\"out.dta\")\n",
    "train_X=train_data[:,:2]\n",
    "train_Y=train_data[:,2]\n",
    "#transform\n",
    "test_X=test_data[:,:2]\n",
    "test_Y=test_data[:,2]\n",
    "def transform(X):\n",
    "    X_new=np.zeros((X.shape[0],8))\n",
    "    X_new[:,0]=1\n",
    "    X_new[:,1]=X[:,0]\n",
    "    X_new[:,2]=X[:,1]\n",
    "    X_new[:,3]=X[:,0]**2\n",
    "    X_new[:,4]=X[:,1]**2\n",
    "    X_new[:,5] = X[:,0] * X[:,1]\n",
    "    X_new[:,6]=np.abs(X[:,0] - X[:,1])\n",
    "    X_new[:,7]=np.abs(X[:,0] + X[:,1])\n",
    "    return X_new\n",
    "\n",
    "def run_linear_Regression(X,y,k):\n",
    "    I=np.eye(8)\n",
    "    X_new=transform(X)\n",
    "    #w=(Z^T*Z)^-1*Z^Ty\n",
    "    b=np.dot(X_new.T,y)\n",
    "    a=np.dot(X_new.T,X_new)+k*I\n",
    "    w=np.dot(np.linalg.inv(a),b)\n",
    "    predict = np.dot(X_new, w)# tính ouput dự đoán\n",
    "    predict=np.sign(predict)# lấy dấu của output dụ đoán\n",
    "    return predict,w\n",
    "predict_train,w=run_linear_Regression(train_X,train_Y,10**0)\n",
    "print(\"E_in k=0=\",np.mean(train_Y!=predict_train))\n",
    "test_X_new=transform(test_X)\n",
    "predict_test=np.dot(test_X_new,w)\n",
    "predict_test=np.sign(predict_test)\n",
    "print(\"E_outk=0\",np.mean(test_Y!=predict_test))\n"
   ]
  },
  {
   "cell_type": "code",
   "execution_count": 7,
   "metadata": {},
   "outputs": [
    {
     "name": "stdout",
     "output_type": "stream",
     "text": [
      "E_in k=1= 0.05714285714285714\n",
      "E_outk=1 0.124\n"
     ]
    }
   ],
   "source": [
    "#voi k=1\n",
    "import numpy as np\n",
    "train_data = np.loadtxt(\"in.dta\")\n",
    "test_data=np.loadtxt(\"out.dta\")\n",
    "train_X=train_data[:,:2]\n",
    "train_Y=train_data[:,2]\n",
    "#transform\n",
    "test_X=test_data[:,:2]\n",
    "test_Y=test_data[:,2]\n",
    "def transform(X):\n",
    "    X_new=np.zeros((X.shape[0],8))\n",
    "    X_new[:,0]=1\n",
    "    X_new[:,1]=X[:,0]\n",
    "    X_new[:,2]=X[:,1]\n",
    "    X_new[:,3]=X[:,0]**2\n",
    "    X_new[:,4]=X[:,1]**2\n",
    "    X_new[:,5] = X[:,0] * X[:,1]\n",
    "    X_new[:,6]=np.abs(X[:,0] - X[:,1])\n",
    "    X_new[:,7]=np.abs(X[:,0] + X[:,1])\n",
    "    return X_new\n",
    "\n",
    "def run_linear_Regression(X,y,k):\n",
    "    I=np.eye(8)\n",
    "    X_new=transform(X)\n",
    "    #w=(Z^T*Z)^-1*Z^Ty\n",
    "    b=np.dot(X_new.T,y)\n",
    "    a=np.dot(X_new.T,X_new)+k*I\n",
    "    w=np.dot(np.linalg.inv(a),b)\n",
    "    predict = np.dot(X_new, w)# tính ouput dự đoán\n",
    "    predict=np.sign(predict)# lấy dấu của output dụ đoán\n",
    "    return predict,w\n",
    "predict_train,w=run_linear_Regression(train_X,train_Y,10**1)\n",
    "print(\"E_in k=1=\",np.mean(train_Y!=predict_train))\n",
    "test_X_new=transform(test_X)\n",
    "predict_test=np.dot(test_X_new,w)\n",
    "predict_test=np.sign(predict_test)\n",
    "print(\"E_outk=1\",np.mean(test_Y!=predict_test))\n"
   ]
  },
  {
   "cell_type": "code",
   "execution_count": 8,
   "metadata": {},
   "outputs": [
    {
     "name": "stdout",
     "output_type": "stream",
     "text": [
      "E_in voi k=2 = 0.2\n",
      "E_out voi k =2 = 0.228\n"
     ]
    }
   ],
   "source": [
    "#với K=2\n",
    "import numpy as np\n",
    "train_data = np.loadtxt(\"in.dta\")\n",
    "test_data=np.loadtxt(\"out.dta\")\n",
    "train_X=train_data[:,:2]\n",
    "train_Y=train_data[:,2]\n",
    "#transform\n",
    "test_X=test_data[:,:2]\n",
    "test_Y=test_data[:,2]\n",
    "def transform(X):\n",
    "    X_new=np.zeros((X.shape[0],8))\n",
    "    X_new[:,0]=1\n",
    "    X_new[:,1]=X[:,0]\n",
    "    X_new[:,2]=X[:,1]\n",
    "    X_new[:,3]=X[:,0]**2\n",
    "    X_new[:,4]=X[:,1]**2\n",
    "    X_new[:,5] = X[:,0] * X[:,1]\n",
    "    X_new[:,6]=np.abs(X[:,0] - X[:,1])\n",
    "    X_new[:,7]=np.abs(X[:,0] + X[:,1])\n",
    "    return X_new\n",
    "\n",
    "def run_linear_Regression(X,y,k):\n",
    "    I=np.eye(8)\n",
    "    X_new=transform(X)\n",
    "    #w=(Z^T*Z)^-1*Z^Ty\n",
    "    b=np.dot(X_new.T,y)\n",
    "    a=np.dot(X_new.T,X_new)+k*I\n",
    "    w=np.dot(np.linalg.inv(a),b)\n",
    "    predict = np.dot(X_new, w)# tính ouput dự đoán\n",
    "    predict=np.sign(predict)# lấy dấu của output dụ đoán\n",
    "    return predict,w\n",
    "predict_train,w=run_linear_Regression(train_X,train_Y,10**2)\n",
    "print(\"E_in voi k=2 =\",np.mean(train_Y!=predict_train))\n",
    "test_X_new=transform(test_X)\n",
    "predict_test=np.dot(test_X_new,w)\n",
    "predict_test=np.sign(predict_test)\n",
    "print(\"E_out voi k =2 =\",np.mean(test_Y!=predict_test))\n"
   ]
  },
  {
   "cell_type": "markdown",
   "metadata": {
    "deletable": false,
    "nbgrader": {
     "cell_type": "markdown",
     "checksum": "0b484b8390bec96142e8a1213ee8cd2c",
     "grade": true,
     "grade_id": "c5",
     "locked": false,
     "points": 1,
     "schema_version": 3,
     "solution": true,
     "task": false
    }
   },
   "source": [
    "chọn đáp án D"
   ]
  },
  {
   "cell_type": "markdown",
   "metadata": {},
   "source": [
    "## Câu 6 (1 điểm)"
   ]
  },
  {
   "cell_type": "markdown",
   "metadata": {
    "deletable": false,
    "nbgrader": {
     "cell_type": "markdown",
     "checksum": "26f542221236fb24d0ddbee584eed7d0",
     "grade": true,
     "grade_id": "c6",
     "locked": false,
     "points": 1,
     "schema_version": 3,
     "solution": true,
     "task": false
    }
   },
   "source": [
    "từ câu 5 với k=-1 chọn B"
   ]
  },
  {
   "cell_type": "markdown",
   "metadata": {},
   "source": [
    "## Câu 7 (1 điểm)"
   ]
  },
  {
   "cell_type": "markdown",
   "metadata": {
    "deletable": false,
    "nbgrader": {
     "cell_type": "markdown",
     "checksum": "322a244b0fae3a20ec568a5099aaaec1",
     "grade": true,
     "grade_id": "c7",
     "locked": false,
     "points": 1,
     "schema_version": 3,
     "solution": true,
     "task": false
    }
   },
   "source": [
    "do em không viết được latex nên em gõ qua file word rồi up lên diver , mong cô thông cảm ạ\n",
    "https://drive.google.com/file/d/1BUORyc39of3C4H6o_7CrwPggWvTg9PhT/view?usp=sharing\n",
    "chọn đáp án C"
   ]
  },
  {
   "cell_type": "markdown",
   "metadata": {},
   "source": [
    "## Câu 8 (1 điểm)"
   ]
  },
  {
   "cell_type": "markdown",
   "metadata": {
    "deletable": false,
    "nbgrader": {
     "cell_type": "markdown",
     "checksum": "d81773f072cd15e4a27b6cd240a5d990",
     "grade": true,
     "grade_id": "c8",
     "locked": false,
     "points": 1,
     "schema_version": 3,
     "solution": true,
     "task": false
    }
   },
   "source": [
    "YOUR ANSWER HERE"
   ]
  },
  {
   "cell_type": "markdown",
   "metadata": {},
   "source": [
    "## Câu 9 (1 điểm)"
   ]
  },
  {
   "cell_type": "markdown",
   "metadata": {
    "deletable": false,
    "nbgrader": {
     "cell_type": "markdown",
     "checksum": "e814a2db0b8a53e4fddfee4bcbf405fc",
     "grade": true,
     "grade_id": "c9",
     "locked": false,
     "points": 1,
     "schema_version": 3,
     "solution": true,
     "task": false
    }
   },
   "source": [
    "YOUR ANSWER HERE"
   ]
  },
  {
   "cell_type": "markdown",
   "metadata": {},
   "source": [
    "## Câu 10 (1 điểm)"
   ]
  },
  {
   "cell_type": "markdown",
   "metadata": {
    "deletable": false,
    "nbgrader": {
     "cell_type": "markdown",
     "checksum": "41cbf5c6d2b94eeae0a712be2181fef6",
     "grade": true,
     "grade_id": "c10",
     "locked": false,
     "points": 1,
     "schema_version": 3,
     "solution": true,
     "task": false
    }
   },
   "source": [
    "YOUR ANSWER HERE"
   ]
  }
 ],
 "metadata": {
  "kernelspec": {
   "display_name": "Python 3",
   "language": "python",
   "name": "python3"
  },
  "language_info": {
   "codemirror_mode": {
    "name": "ipython",
    "version": 3
   },
   "file_extension": ".py",
   "mimetype": "text/x-python",
   "name": "python",
   "nbconvert_exporter": "python",
   "pygments_lexer": "ipython3",
   "version": "3.7.1"
  },
  "toc": {
   "base_numbering": 1,
   "nav_menu": {},
   "number_sections": true,
   "sideBar": true,
   "skip_h1_title": false,
   "title_cell": "Table of Contents",
   "title_sidebar": "Contents",
   "toc_cell": false,
   "toc_position": {},
   "toc_section_display": true,
   "toc_window_display": false
  },
  "varInspector": {
   "cols": {
    "lenName": 16,
    "lenType": 16,
    "lenVar": 40
   },
   "kernels_config": {
    "python": {
     "delete_cmd_postfix": "",
     "delete_cmd_prefix": "del ",
     "library": "var_list.py",
     "varRefreshCmd": "print(var_dic_list())"
    },
    "r": {
     "delete_cmd_postfix": ") ",
     "delete_cmd_prefix": "rm(",
     "library": "var_list.r",
     "varRefreshCmd": "cat(var_dic_list()) "
    }
   },
   "types_to_exclude": [
    "module",
    "function",
    "builtin_function_or_method",
    "instance",
    "_Feature"
   ],
   "window_display": false
  }
 },
 "nbformat": 4,
 "nbformat_minor": 4
}
